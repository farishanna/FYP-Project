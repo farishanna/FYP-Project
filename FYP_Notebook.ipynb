{
 "cells": [
  {
   "cell_type": "markdown",
   "id": "ffff5198",
   "metadata": {},
   "source": [
    "# Car Price Predictor"
   ]
  },
  {
   "cell_type": "markdown",
   "id": "1aa7e185",
   "metadata": {},
   "source": [
    "## Importing Libraries"
   ]
  },
  {
   "cell_type": "code",
   "execution_count": 1,
   "id": "558ceb41",
   "metadata": {},
   "outputs": [],
   "source": [
    "# For data manipulation\n",
    "import pandas as pd\n",
    "import numpy as np\n",
    "import time\n",
    "\n",
    "# For plotting \n",
    "import matplotlib.pyplot as plt\n",
    "%matplotlib inline\n",
    "import seaborn as sns\n",
    "\n",
    "# For encoding categorical data\n",
    "from sklearn.preprocessing import LabelEncoder\n",
    "# Cross validation and hyperparameter tuning\n",
    "from sklearn.model_selection import cross_val_score, KFold, GridSearchCV\n",
    "# Machine Learning models\n",
    "from sklearn.linear_model import LinearRegression\n",
    "from sklearn.tree import DecisionTreeRegressor\n",
    "from catboost import CatBoostRegressor\n",
    "# Metrics for evaluation\n",
    "from sklearn.metrics import mean_squared_error, r2_score"
   ]
  },
  {
   "cell_type": "markdown",
   "id": "3d3005ac",
   "metadata": {},
   "source": [
    "## Importing and Cleaning Data"
   ]
  },
  {
   "cell_type": "code",
   "execution_count": 2,
   "id": "eb8f0f88",
   "metadata": {},
   "outputs": [
    {
     "data": {
      "text/html": [
       "<div>\n",
       "<style scoped>\n",
       "    .dataframe tbody tr th:only-of-type {\n",
       "        vertical-align: middle;\n",
       "    }\n",
       "\n",
       "    .dataframe tbody tr th {\n",
       "        vertical-align: top;\n",
       "    }\n",
       "\n",
       "    .dataframe thead th {\n",
       "        text-align: right;\n",
       "    }\n",
       "</style>\n",
       "<table border=\"1\" class=\"dataframe\">\n",
       "  <thead>\n",
       "    <tr style=\"text-align: right;\">\n",
       "      <th></th>\n",
       "      <th>company</th>\n",
       "      <th>model</th>\n",
       "      <th>year</th>\n",
       "      <th>transmission</th>\n",
       "      <th>mileage</th>\n",
       "      <th>fuelType</th>\n",
       "      <th>tax</th>\n",
       "      <th>mpg</th>\n",
       "      <th>engineSize</th>\n",
       "      <th>tax(£)</th>\n",
       "      <th>price</th>\n",
       "    </tr>\n",
       "  </thead>\n",
       "  <tbody>\n",
       "    <tr>\n",
       "      <th>0</th>\n",
       "      <td>Audi</td>\n",
       "      <td>A1</td>\n",
       "      <td>2017</td>\n",
       "      <td>Manual</td>\n",
       "      <td>15735</td>\n",
       "      <td>Petrol</td>\n",
       "      <td>150.0</td>\n",
       "      <td>55.4</td>\n",
       "      <td>1.4</td>\n",
       "      <td>NaN</td>\n",
       "      <td>12500</td>\n",
       "    </tr>\n",
       "    <tr>\n",
       "      <th>1</th>\n",
       "      <td>Audi</td>\n",
       "      <td>A6</td>\n",
       "      <td>2016</td>\n",
       "      <td>Automatic</td>\n",
       "      <td>36203</td>\n",
       "      <td>Diesel</td>\n",
       "      <td>20.0</td>\n",
       "      <td>64.2</td>\n",
       "      <td>2.0</td>\n",
       "      <td>NaN</td>\n",
       "      <td>16500</td>\n",
       "    </tr>\n",
       "    <tr>\n",
       "      <th>2</th>\n",
       "      <td>Audi</td>\n",
       "      <td>A1</td>\n",
       "      <td>2016</td>\n",
       "      <td>Manual</td>\n",
       "      <td>29946</td>\n",
       "      <td>Petrol</td>\n",
       "      <td>30.0</td>\n",
       "      <td>55.4</td>\n",
       "      <td>1.4</td>\n",
       "      <td>NaN</td>\n",
       "      <td>11000</td>\n",
       "    </tr>\n",
       "    <tr>\n",
       "      <th>3</th>\n",
       "      <td>Audi</td>\n",
       "      <td>A4</td>\n",
       "      <td>2017</td>\n",
       "      <td>Automatic</td>\n",
       "      <td>25952</td>\n",
       "      <td>Diesel</td>\n",
       "      <td>145.0</td>\n",
       "      <td>67.3</td>\n",
       "      <td>2.0</td>\n",
       "      <td>NaN</td>\n",
       "      <td>16800</td>\n",
       "    </tr>\n",
       "    <tr>\n",
       "      <th>4</th>\n",
       "      <td>Audi</td>\n",
       "      <td>A3</td>\n",
       "      <td>2019</td>\n",
       "      <td>Manual</td>\n",
       "      <td>1998</td>\n",
       "      <td>Petrol</td>\n",
       "      <td>145.0</td>\n",
       "      <td>49.6</td>\n",
       "      <td>1.0</td>\n",
       "      <td>NaN</td>\n",
       "      <td>17300</td>\n",
       "    </tr>\n",
       "  </tbody>\n",
       "</table>\n",
       "</div>"
      ],
      "text/plain": [
       "  company model  year transmission  mileage fuelType    tax   mpg  engineSize  \\\n",
       "0    Audi    A1  2017       Manual    15735   Petrol  150.0  55.4         1.4   \n",
       "1    Audi    A6  2016    Automatic    36203   Diesel   20.0  64.2         2.0   \n",
       "2    Audi    A1  2016       Manual    29946   Petrol   30.0  55.4         1.4   \n",
       "3    Audi    A4  2017    Automatic    25952   Diesel  145.0  67.3         2.0   \n",
       "4    Audi    A3  2019       Manual     1998   Petrol  145.0  49.6         1.0   \n",
       "\n",
       "   tax(£)  price  \n",
       "0     NaN  12500  \n",
       "1     NaN  16500  \n",
       "2     NaN  11000  \n",
       "3     NaN  16800  \n",
       "4     NaN  17300  "
      ]
     },
     "execution_count": 2,
     "metadata": {},
     "output_type": "execute_result"
    }
   ],
   "source": [
    "# Gathering the Data\n",
    "audi = pd.read_csv('audi.csv')\n",
    "bmw = pd.read_csv('bmw.csv')\n",
    "ford = pd.read_csv('ford.csv')\n",
    "hyundi = pd.read_csv('hyundi.csv')\n",
    "merc = pd.read_csv('merc.csv')\n",
    "skoda = pd.read_csv('skoda.csv')\n",
    "toyota = pd.read_csv('toyota.csv')\n",
    "vauxhall = pd.read_csv('vauxhall.csv')\n",
    "vw = pd.read_csv('vw.csv')\n",
    "\n",
    "# Adding the company columns to the data frames\n",
    "audi['company'] = 'Audi'\n",
    "bmw['company'] = 'BMW'\n",
    "ford['company'] = 'Ford'\n",
    "hyundi['company'] = 'Hyundai'\n",
    "merc['company'] = 'Mercedes'\n",
    "skoda['company'] = 'Skoda'\n",
    "toyota['company'] = 'Toyota'\n",
    "vauxhall['company'] = 'Vauxhall'\n",
    "vw['company'] = 'Volkswagen'\n",
    "\n",
    "# Append all the data into one dataframe\n",
    "df = audi.append([bmw, ford, hyundi, merc, skoda, toyota, vauxhall, vw], sort=False)\n",
    "\n",
    "# Move the company column to the left\n",
    "df = df[ ['company'] + [ col for col in df.columns if col != 'company' ] ]\n",
    "# Move the price column to the right\n",
    "df = df[ [ col for col in df.columns if col != 'price' ] + ['price'] ]\n",
    "\n",
    "# Removing empty spaces\n",
    "for i in df.columns:\n",
    "    if df[i].dtypes == 'O':\n",
    "        df[i] = df[i].str.strip()\n",
    "        \n",
    "df.head()"
   ]
  },
  {
   "cell_type": "code",
   "execution_count": 3,
   "id": "364cf9de",
   "metadata": {},
   "outputs": [
    {
     "data": {
      "text/plain": [
       "company             0\n",
       "model               0\n",
       "year                0\n",
       "transmission        0\n",
       "mileage             0\n",
       "fuelType            0\n",
       "tax              4860\n",
       "mpg                 0\n",
       "engineSize          0\n",
       "tax(£)          94327\n",
       "price               0\n",
       "dtype: int64"
      ]
     },
     "execution_count": 3,
     "metadata": {},
     "output_type": "execute_result"
    }
   ],
   "source": [
    "# Checking for any null values\n",
    "df.isnull().sum()"
   ]
  },
  {
   "cell_type": "code",
   "execution_count": 4,
   "id": "544a86ec",
   "metadata": {},
   "outputs": [
    {
     "data": {
      "image/png": "[encoded data removed]",
      "text/plain": [
       "<Figure size 432x288 with 2 Axes>"
      ]
     },
     "metadata": {
      "needs_background": "light"
     },
     "output_type": "display_data"
    }
   ],
   "source": [
    "# Heatmap of null values\n",
    "sns.heatmap(df.isnull())\n",
    "plt.show()"
   ]
  },
  {
   "cell_type": "code",
   "execution_count": 5,
   "id": "9be29709",
   "metadata": {},
   "outputs": [],
   "source": [
    "# Filling null values of tax column with tax(£) column\n",
    "df['tax'] = df['tax'].fillna(df['tax(£)'])\n",
    "# Dropping not needed column\n",
    "df = df.drop(columns=['tax(£)'])"
   ]
  },
  {
   "cell_type": "code",
   "execution_count": 6,
   "id": "71cdf965",
   "metadata": {},
   "outputs": [
    {
     "data": {
      "text/html": [
       "<div>\n",
       "<style scoped>\n",
       "    .dataframe tbody tr th:only-of-type {\n",
       "        vertical-align: middle;\n",
       "    }\n",
       "\n",
       "    .dataframe tbody tr th {\n",
       "        vertical-align: top;\n",
       "    }\n",
       "\n",
       "    .dataframe thead th {\n",
       "        text-align: right;\n",
       "    }\n",
       "</style>\n",
       "<table border=\"1\" class=\"dataframe\">\n",
       "  <thead>\n",
       "    <tr style=\"text-align: right;\">\n",
       "      <th></th>\n",
       "      <th>year</th>\n",
       "      <th>mileage</th>\n",
       "      <th>tax</th>\n",
       "      <th>mpg</th>\n",
       "      <th>engineSize</th>\n",
       "      <th>price</th>\n",
       "    </tr>\n",
       "  </thead>\n",
       "  <tbody>\n",
       "    <tr>\n",
       "      <th>count</th>\n",
       "      <td>99187.000000</td>\n",
       "      <td>99187.000000</td>\n",
       "      <td>99187.000000</td>\n",
       "      <td>99187.000000</td>\n",
       "      <td>99187.000000</td>\n",
       "      <td>99187.000000</td>\n",
       "    </tr>\n",
       "    <tr>\n",
       "      <th>mean</th>\n",
       "      <td>2017.087723</td>\n",
       "      <td>23058.914213</td>\n",
       "      <td>120.299838</td>\n",
       "      <td>55.166825</td>\n",
       "      <td>1.663280</td>\n",
       "      <td>16805.347656</td>\n",
       "    </tr>\n",
       "    <tr>\n",
       "      <th>std</th>\n",
       "      <td>2.123934</td>\n",
       "      <td>21148.523721</td>\n",
       "      <td>63.150926</td>\n",
       "      <td>16.138522</td>\n",
       "      <td>0.557646</td>\n",
       "      <td>9866.773417</td>\n",
       "    </tr>\n",
       "    <tr>\n",
       "      <th>min</th>\n",
       "      <td>1970.000000</td>\n",
       "      <td>1.000000</td>\n",
       "      <td>0.000000</td>\n",
       "      <td>0.300000</td>\n",
       "      <td>0.000000</td>\n",
       "      <td>450.000000</td>\n",
       "    </tr>\n",
       "    <tr>\n",
       "      <th>25%</th>\n",
       "      <td>2016.000000</td>\n",
       "      <td>7425.000000</td>\n",
       "      <td>125.000000</td>\n",
       "      <td>47.100000</td>\n",
       "      <td>1.200000</td>\n",
       "      <td>9999.000000</td>\n",
       "    </tr>\n",
       "    <tr>\n",
       "      <th>50%</th>\n",
       "      <td>2017.000000</td>\n",
       "      <td>17460.000000</td>\n",
       "      <td>145.000000</td>\n",
       "      <td>54.300000</td>\n",
       "      <td>1.600000</td>\n",
       "      <td>14495.000000</td>\n",
       "    </tr>\n",
       "    <tr>\n",
       "      <th>75%</th>\n",
       "      <td>2019.000000</td>\n",
       "      <td>32339.000000</td>\n",
       "      <td>145.000000</td>\n",
       "      <td>62.800000</td>\n",
       "      <td>2.000000</td>\n",
       "      <td>20870.000000</td>\n",
       "    </tr>\n",
       "    <tr>\n",
       "      <th>max</th>\n",
       "      <td>2060.000000</td>\n",
       "      <td>323000.000000</td>\n",
       "      <td>580.000000</td>\n",
       "      <td>470.800000</td>\n",
       "      <td>6.600000</td>\n",
       "      <td>159999.000000</td>\n",
       "    </tr>\n",
       "  </tbody>\n",
       "</table>\n",
       "</div>"
      ],
      "text/plain": [
       "               year        mileage           tax           mpg    engineSize  \\\n",
       "count  99187.000000   99187.000000  99187.000000  99187.000000  99187.000000   \n",
       "mean    2017.087723   23058.914213    120.299838     55.166825      1.663280   \n",
       "std        2.123934   21148.523721     63.150926     16.138522      0.557646   \n",
       "min     1970.000000       1.000000      0.000000      0.300000      0.000000   \n",
       "25%     2016.000000    7425.000000    125.000000     47.100000      1.200000   \n",
       "50%     2017.000000   17460.000000    145.000000     54.300000      1.600000   \n",
       "75%     2019.000000   32339.000000    145.000000     62.800000      2.000000   \n",
       "max     2060.000000  323000.000000    580.000000    470.800000      6.600000   \n",
       "\n",
       "               price  \n",
       "count   99187.000000  \n",
       "mean    16805.347656  \n",
       "std      9866.773417  \n",
       "min       450.000000  \n",
       "25%      9999.000000  \n",
       "50%     14495.000000  \n",
       "75%     20870.000000  \n",
       "max    159999.000000  "
      ]
     },
     "execution_count": 6,
     "metadata": {},
     "output_type": "execute_result"
    }
   ],
   "source": [
    "# Getting data statistics\n",
    "df.describe()"
   ]
  },
  {
   "cell_type": "code",
   "execution_count": 7,
   "id": "76bd9bf1",
   "metadata": {},
   "outputs": [],
   "source": [
    "# Removing 2060 year row\n",
    "df = df.loc[df['year'] <= 2020]"
   ]
  },
  {
   "cell_type": "code",
   "execution_count": 8,
   "id": "e5d4348c",
   "metadata": {},
   "outputs": [
    {
     "data": {
      "text/plain": [
       "count        273\n",
       "unique         5\n",
       "top       Petrol\n",
       "freq         163\n",
       "Name: fuelType, dtype: object"
      ]
     },
     "execution_count": 8,
     "metadata": {},
     "output_type": "execute_result"
    }
   ],
   "source": [
    "# Ensuring engine size of zero are only electric\n",
    "df.loc[df['engineSize'] == 0]['fuelType'].describe()"
   ]
  },
  {
   "cell_type": "code",
   "execution_count": 9,
   "id": "e0b3c3ac",
   "metadata": {},
   "outputs": [],
   "source": [
    "# It is clear that the majority of cars with an engine size of zero are not electric, therefore will be removed\n",
    "df = df.loc[df['engineSize'] != 0]"
   ]
  },
  {
   "cell_type": "code",
   "execution_count": 10,
   "id": "0d8472b8",
   "metadata": {},
   "outputs": [
    {
     "data": {
      "text/html": [
       "<div>\n",
       "<style scoped>\n",
       "    .dataframe tbody tr th:only-of-type {\n",
       "        vertical-align: middle;\n",
       "    }\n",
       "\n",
       "    .dataframe tbody tr th {\n",
       "        vertical-align: top;\n",
       "    }\n",
       "\n",
       "    .dataframe thead th {\n",
       "        text-align: right;\n",
       "    }\n",
       "</style>\n",
       "<table border=\"1\" class=\"dataframe\">\n",
       "  <thead>\n",
       "    <tr style=\"text-align: right;\">\n",
       "      <th></th>\n",
       "      <th>company</th>\n",
       "      <th>model</th>\n",
       "      <th>year</th>\n",
       "      <th>transmission</th>\n",
       "      <th>mileage</th>\n",
       "      <th>fuelType</th>\n",
       "      <th>tax</th>\n",
       "      <th>mpg</th>\n",
       "      <th>engineSize</th>\n",
       "      <th>price</th>\n",
       "    </tr>\n",
       "  </thead>\n",
       "  <tbody>\n",
       "    <tr>\n",
       "      <th>8835</th>\n",
       "      <td>BMW</td>\n",
       "      <td>i3</td>\n",
       "      <td>2015</td>\n",
       "      <td>Automatic</td>\n",
       "      <td>29465</td>\n",
       "      <td>Electric</td>\n",
       "      <td>0.0</td>\n",
       "      <td>470.8</td>\n",
       "      <td>1.0</td>\n",
       "      <td>17400</td>\n",
       "    </tr>\n",
       "    <tr>\n",
       "      <th>6385</th>\n",
       "      <td>Ford</td>\n",
       "      <td>Mondeo</td>\n",
       "      <td>2016</td>\n",
       "      <td>Automatic</td>\n",
       "      <td>9396</td>\n",
       "      <td>Electric</td>\n",
       "      <td>0.0</td>\n",
       "      <td>67.3</td>\n",
       "      <td>2.0</td>\n",
       "      <td>15975</td>\n",
       "    </tr>\n",
       "    <tr>\n",
       "      <th>11959</th>\n",
       "      <td>Ford</td>\n",
       "      <td>Mondeo</td>\n",
       "      <td>2016</td>\n",
       "      <td>Automatic</td>\n",
       "      <td>24531</td>\n",
       "      <td>Electric</td>\n",
       "      <td>0.0</td>\n",
       "      <td>67.3</td>\n",
       "      <td>2.0</td>\n",
       "      <td>15500</td>\n",
       "    </tr>\n",
       "    <tr>\n",
       "      <th>13317</th>\n",
       "      <td>Vauxhall</td>\n",
       "      <td>Ampera</td>\n",
       "      <td>2015</td>\n",
       "      <td>Automatic</td>\n",
       "      <td>34461</td>\n",
       "      <td>Electric</td>\n",
       "      <td>0.0</td>\n",
       "      <td>235.4</td>\n",
       "      <td>1.4</td>\n",
       "      <td>12999</td>\n",
       "    </tr>\n",
       "  </tbody>\n",
       "</table>\n",
       "</div>"
      ],
      "text/plain": [
       "        company   model  year transmission  mileage  fuelType  tax    mpg  \\\n",
       "8835        BMW      i3  2015    Automatic    29465  Electric  0.0  470.8   \n",
       "6385       Ford  Mondeo  2016    Automatic     9396  Electric  0.0   67.3   \n",
       "11959      Ford  Mondeo  2016    Automatic    24531  Electric  0.0   67.3   \n",
       "13317  Vauxhall  Ampera  2015    Automatic    34461  Electric  0.0  235.4   \n",
       "\n",
       "       engineSize  price  \n",
       "8835          1.0  17400  \n",
       "6385          2.0  15975  \n",
       "11959         2.0  15500  \n",
       "13317         1.4  12999  "
      ]
     },
     "execution_count": 10,
     "metadata": {},
     "output_type": "execute_result"
    }
   ],
   "source": [
    "# Checking for electric cars\n",
    "df.loc[df['fuelType'] == 'Electric']"
   ]
  },
  {
   "cell_type": "code",
   "execution_count": 11,
   "id": "03ffa292",
   "metadata": {},
   "outputs": [],
   "source": [
    "# It would be best to remove the electrical cars\n",
    "df = df.loc[df['fuelType'] != 'Electric']"
   ]
  },
  {
   "cell_type": "code",
   "execution_count": 12,
   "id": "8a2ad684",
   "metadata": {},
   "outputs": [
    {
     "name": "stdout",
     "output_type": "stream",
     "text": [
      "<class 'pandas.core.frame.DataFrame'>\n",
      "Int64Index: 98909 entries, 0 to 15156\n",
      "Data columns (total 10 columns):\n",
      " #   Column        Non-Null Count  Dtype  \n",
      "---  ------        --------------  -----  \n",
      " 0   company       98909 non-null  object \n",
      " 1   model         98909 non-null  object \n",
      " 2   year          98909 non-null  int64  \n",
      " 3   transmission  98909 non-null  object \n",
      " 4   mileage       98909 non-null  int64  \n",
      " 5   fuelType      98909 non-null  object \n",
      " 6   tax           98909 non-null  float64\n",
      " 7   mpg           98909 non-null  float64\n",
      " 8   engineSize    98909 non-null  float64\n",
      " 9   price         98909 non-null  int64  \n",
      "dtypes: float64(3), int64(3), object(4)\n",
      "memory usage: 8.3+ MB\n"
     ]
    }
   ],
   "source": [
    "# Ensuring the data types are correct\n",
    "df.info()"
   ]
  },
  {
   "cell_type": "markdown",
   "id": "ffbdb217",
   "metadata": {},
   "source": [
    "## Exploratory Data Analysis (EDA)"
   ]
  },
  {
   "cell_type": "markdown",
   "id": "1733a7b6",
   "metadata": {},
   "source": [
    "###### Company and Price"
   ]
  },
  {
   "cell_type": "code",
   "execution_count": 13,
   "id": "1158a9c1",
   "metadata": {},
   "outputs": [
    {
     "data": {
      "image/png": "[encoded data removed]",
      "text/plain": [
       "<Figure size 432x288 with 1 Axes>"
      ]
     },
     "metadata": {
      "needs_background": "light"
     },
     "output_type": "display_data"
    }
   ],
   "source": [
    "sns.boxplot(data=df, x='company', y='price')\n",
    "plt.show()"
   ]
  },
  {
   "cell_type": "code",
   "execution_count": 14,
   "id": "efc175d2",
   "metadata": {},
   "outputs": [
    {
     "data": {
      "text/plain": [
       "98909"
      ]
     },
     "execution_count": 14,
     "metadata": {},
     "output_type": "execute_result"
    }
   ],
   "source": [
    "# Length before removing outliers\n",
    "len(df)"
   ]
  },
  {
   "cell_type": "code",
   "execution_count": 15,
   "id": "fd2c7df0",
   "metadata": {},
   "outputs": [
    {
     "data": {
      "text/plain": [
       "98904"
      ]
     },
     "execution_count": 15,
     "metadata": {},
     "output_type": "execute_result"
    }
   ],
   "source": [
    "company_outliers ={ # Manually listing the outliers\n",
    "    'BMW' : 100000,\n",
    "    'Hyundai' : 60000,\n",
    "    'Skoda' : 60000,\n",
    "    'Vauxhall' : 30000,\n",
    "}\n",
    "# Removing outliers based on company_outliers\n",
    "for company in list(company_outliers):\n",
    "    value = company_outliers[company]\n",
    "    df = df.loc[~((df['price'] > value) & (df['company'] == company))]\n",
    "# Length after removing outliers\n",
    "len(df)    "
   ]
  },
  {
   "cell_type": "markdown",
   "id": "e6252149",
   "metadata": {},
   "source": [
    "###### Year and Price"
   ]
  },
  {
   "cell_type": "code",
   "execution_count": 16,
   "id": "bf9eb3b2",
   "metadata": {},
   "outputs": [
    {
     "data": {
      "image/png": "[encoded data removed]",
      "text/plain": [
       "<Figure size 432x288 with 1 Axes>"
      ]
     },
     "metadata": {
      "needs_background": "light"
     },
     "output_type": "display_data"
    }
   ],
   "source": [
    "sns.boxplot(x=df['year'])\n",
    "plt.show()"
   ]
  },
  {
   "cell_type": "code",
   "execution_count": 17,
   "id": "1f8b4282",
   "metadata": {},
   "outputs": [
    {
     "data": {
      "text/plain": [
       "98903"
      ]
     },
     "execution_count": 17,
     "metadata": {},
     "output_type": "execute_result"
    }
   ],
   "source": [
    "df = df.loc[df['year'] > 1970]\n",
    "len(df)"
   ]
  },
  {
   "cell_type": "markdown",
   "id": "50a2b5ec",
   "metadata": {},
   "source": [
    "###### Mileage and Price"
   ]
  },
  {
   "cell_type": "code",
   "execution_count": 18,
   "id": "bcb298d7",
   "metadata": {},
   "outputs": [
    {
     "data": {
      "image/png": "[encoded data removed]",
      "text/plain": [
       "<Figure size 432x288 with 1 Axes>"
      ]
     },
     "metadata": {
      "needs_background": "light"
     },
     "output_type": "display_data"
    }
   ],
   "source": [
    "sns.boxplot(x=df['mileage'])\n",
    "plt.show()"
   ]
  },
  {
   "cell_type": "code",
   "execution_count": 19,
   "id": "72da52ab",
   "metadata": {},
   "outputs": [
    {
     "data": {
      "text/plain": [
       "98894"
      ]
     },
     "execution_count": 19,
     "metadata": {},
     "output_type": "execute_result"
    }
   ],
   "source": [
    "df = df.loc[df['mileage'] < 200000]\n",
    "len(df)"
   ]
  },
  {
   "cell_type": "markdown",
   "id": "9d5a9b58",
   "metadata": {},
   "source": [
    "###### Miles per Gallon and Price"
   ]
  },
  {
   "cell_type": "code",
   "execution_count": 20,
   "id": "dfebe145",
   "metadata": {},
   "outputs": [
    {
     "data": {
      "image/png": "[encoded data removed]",
      "text/plain": [
       "<Figure size 432x288 with 1 Axes>"
      ]
     },
     "metadata": {
      "needs_background": "light"
     },
     "output_type": "display_data"
    }
   ],
   "source": [
    "sns.boxplot(x=df['mpg'])\n",
    "plt.show()"
   ]
  },
  {
   "cell_type": "code",
   "execution_count": 21,
   "id": "13b9eea4",
   "metadata": {},
   "outputs": [
    {
     "data": {
      "text/plain": [
       "98887"
      ]
     },
     "execution_count": 21,
     "metadata": {},
     "output_type": "execute_result"
    }
   ],
   "source": [
    "df = df.loc[df['mpg'] < 300]\n",
    "len(df)"
   ]
  },
  {
   "cell_type": "markdown",
   "id": "bf2e2325",
   "metadata": {},
   "source": [
    "The chart shows that there is an increase in price the less the miles per gallon is."
   ]
  },
  {
   "cell_type": "markdown",
   "id": "53f05041",
   "metadata": {},
   "source": [
    "###### Tax and Price"
   ]
  },
  {
   "cell_type": "code",
   "execution_count": 22,
   "id": "d7933a4b",
   "metadata": {},
   "outputs": [
    {
     "data": {
      "image/png": "[encoded data removed]",
      "text/plain": [
       "<Figure size 432x288 with 1 Axes>"
      ]
     },
     "metadata": {
      "needs_background": "light"
     },
     "output_type": "display_data"
    }
   ],
   "source": [
    "sns.boxplot(x=df['tax'])\n",
    "plt.show()"
   ]
  },
  {
   "cell_type": "markdown",
   "id": "b01c1568",
   "metadata": {},
   "source": [
    "There seems to be no correlation between the price and tax. Therefore, we can remove this column."
   ]
  },
  {
   "cell_type": "markdown",
   "id": "ed0380c3",
   "metadata": {},
   "source": [
    "###### Engine Size and Price"
   ]
  },
  {
   "cell_type": "code",
   "execution_count": 23,
   "id": "53980342",
   "metadata": {},
   "outputs": [
    {
     "name": "stderr",
     "output_type": "stream",
     "text": [
      "/Users/farishanna/opt/anaconda3/lib/python3.8/site-packages/seaborn/_decorators.py:36: FutureWarning: Pass the following variable as a keyword arg: x. From version 0.12, the only valid positional argument will be `data`, and passing other arguments without an explicit keyword will result in an error or misinterpretation.\n",
      "  warnings.warn(\n"
     ]
    },
    {
     "data": {
      "image/png": "[encoded data removed]",
      "text/plain": [
       "<Figure size 432x288 with 1 Axes>"
      ]
     },
     "metadata": {
      "needs_background": "light"
     },
     "output_type": "display_data"
    }
   ],
   "source": [
    "sns.boxplot(df['engineSize'])\n",
    "plt.show()"
   ]
  },
  {
   "cell_type": "markdown",
   "id": "c0fcdbcd",
   "metadata": {},
   "source": [
    "There is not much correlation between the engine size and the price. Only that usually more expensive cars can have a large engine size."
   ]
  },
  {
   "cell_type": "markdown",
   "id": "6aa5be3e",
   "metadata": {},
   "source": [
    "###### Transmission and Price"
   ]
  },
  {
   "cell_type": "code",
   "execution_count": 24,
   "id": "d3b75074",
   "metadata": {},
   "outputs": [],
   "source": [
    "def cat_clean(column):\n",
    "    # Creates pivot table of the mean of prices of each transmission type\n",
    "    table = pd.pivot_table(df, values='price', index=[column], aggfunc='count')\n",
    "    # Creating pie chart\n",
    "    plt.pie(table.price, labels=table.index)\n",
    "    # Adding title\n",
    "    plt.title('Counts of cars by ' + column)\n",
    "    # Showing graph\n",
    "    plt.show()"
   ]
  },
  {
   "cell_type": "code",
   "execution_count": 25,
   "id": "3a456556",
   "metadata": {},
   "outputs": [
    {
     "data": {
      "image/png": "[encoded data removed]",
      "text/plain": [
       "<Figure size 432x288 with 1 Axes>"
      ]
     },
     "metadata": {},
     "output_type": "display_data"
    }
   ],
   "source": [
    "cat_clean('transmission')"
   ]
  },
  {
   "cell_type": "code",
   "execution_count": 26,
   "id": "3436cd4d",
   "metadata": {},
   "outputs": [
    {
     "data": {
      "text/plain": [
       "98879"
      ]
     },
     "execution_count": 26,
     "metadata": {},
     "output_type": "execute_result"
    }
   ],
   "source": [
    "df = df.loc[df['transmission'] != 'Other']\n",
    "len(df) "
   ]
  },
  {
   "cell_type": "markdown",
   "id": "8abc33e5",
   "metadata": {},
   "source": [
    "###### Fuel Type and Price"
   ]
  },
  {
   "cell_type": "code",
   "execution_count": 27,
   "id": "4dcde576",
   "metadata": {},
   "outputs": [
    {
     "data": {
      "image/png": "[encoded data removed]",
      "text/plain": [
       "<Figure size 432x288 with 1 Axes>"
      ]
     },
     "metadata": {},
     "output_type": "display_data"
    }
   ],
   "source": [
    "cat_clean('fuelType')"
   ]
  },
  {
   "cell_type": "code",
   "execution_count": 28,
   "id": "004beee8",
   "metadata": {},
   "outputs": [
    {
     "data": {
      "text/plain": [
       "98640"
      ]
     },
     "execution_count": 28,
     "metadata": {},
     "output_type": "execute_result"
    }
   ],
   "source": [
    "df = df.loc[df['fuelType'] != 'Other']\n",
    "len(df)"
   ]
  },
  {
   "cell_type": "markdown",
   "id": "4b6b2330",
   "metadata": {},
   "source": [
    "###### Further analysis"
   ]
  },
  {
   "cell_type": "code",
   "execution_count": 29,
   "id": "b3cb40ef",
   "metadata": {},
   "outputs": [
    {
     "data": {
      "image/png": "[encoded data removed]",
      "text/plain": [
       "<Figure size 432x288 with 2 Axes>"
      ]
     },
     "metadata": {
      "needs_background": "light"
     },
     "output_type": "display_data"
    }
   ],
   "source": [
    "# Checking for any correlations in the dataframe using a heatmap\n",
    "sns.heatmap(df.corr(), annot=True)\n",
    "plt.show()"
   ]
  },
  {
   "cell_type": "code",
   "execution_count": 30,
   "id": "1d6d1c8b",
   "metadata": {},
   "outputs": [
    {
     "data": {
      "image/png": "[encoded data removed]",
      "text/plain": [
       "<Figure size 1080x1080 with 42 Axes>"
      ]
     },
     "metadata": {
      "needs_background": "light"
     },
     "output_type": "display_data"
    }
   ],
   "source": [
    "sns.pairplot(df.corr())\n",
    "plt.show()"
   ]
  },
  {
   "cell_type": "markdown",
   "id": "338a746a",
   "metadata": {},
   "source": [
    "## Data Pre-Processing"
   ]
  },
  {
   "cell_type": "code",
   "execution_count": 31,
   "id": "83b21e50",
   "metadata": {},
   "outputs": [],
   "source": [
    "# # Splitting target variable (price) and independent variables\n",
    "X = df.drop(columns=['price'])\n",
    "Y = df['price'].values"
   ]
  },
  {
   "cell_type": "code",
   "execution_count": 32,
   "id": "7b423e69",
   "metadata": {},
   "outputs": [
    {
     "data": {
      "text/html": [
       "<div>\n",
       "<style scoped>\n",
       "    .dataframe tbody tr th:only-of-type {\n",
       "        vertical-align: middle;\n",
       "    }\n",
       "\n",
       "    .dataframe tbody tr th {\n",
       "        vertical-align: top;\n",
       "    }\n",
       "\n",
       "    .dataframe thead th {\n",
       "        text-align: right;\n",
       "    }\n",
       "</style>\n",
       "<table border=\"1\" class=\"dataframe\">\n",
       "  <thead>\n",
       "    <tr style=\"text-align: right;\">\n",
       "      <th></th>\n",
       "      <th>company</th>\n",
       "      <th>model</th>\n",
       "      <th>year</th>\n",
       "      <th>transmission</th>\n",
       "      <th>mileage</th>\n",
       "      <th>fuelType</th>\n",
       "      <th>tax</th>\n",
       "      <th>mpg</th>\n",
       "      <th>engineSize</th>\n",
       "    </tr>\n",
       "  </thead>\n",
       "  <tbody>\n",
       "    <tr>\n",
       "      <th>0</th>\n",
       "      <td>0</td>\n",
       "      <td>12</td>\n",
       "      <td>2017</td>\n",
       "      <td>1</td>\n",
       "      <td>15735</td>\n",
       "      <td>2</td>\n",
       "      <td>150.0</td>\n",
       "      <td>55.4</td>\n",
       "      <td>1.4</td>\n",
       "    </tr>\n",
       "    <tr>\n",
       "      <th>1</th>\n",
       "      <td>0</td>\n",
       "      <td>17</td>\n",
       "      <td>2016</td>\n",
       "      <td>0</td>\n",
       "      <td>36203</td>\n",
       "      <td>0</td>\n",
       "      <td>20.0</td>\n",
       "      <td>64.2</td>\n",
       "      <td>2.0</td>\n",
       "    </tr>\n",
       "    <tr>\n",
       "      <th>2</th>\n",
       "      <td>0</td>\n",
       "      <td>12</td>\n",
       "      <td>2016</td>\n",
       "      <td>1</td>\n",
       "      <td>29946</td>\n",
       "      <td>2</td>\n",
       "      <td>30.0</td>\n",
       "      <td>55.4</td>\n",
       "      <td>1.4</td>\n",
       "    </tr>\n",
       "    <tr>\n",
       "      <th>3</th>\n",
       "      <td>0</td>\n",
       "      <td>15</td>\n",
       "      <td>2017</td>\n",
       "      <td>0</td>\n",
       "      <td>25952</td>\n",
       "      <td>0</td>\n",
       "      <td>145.0</td>\n",
       "      <td>67.3</td>\n",
       "      <td>2.0</td>\n",
       "    </tr>\n",
       "    <tr>\n",
       "      <th>4</th>\n",
       "      <td>0</td>\n",
       "      <td>14</td>\n",
       "      <td>2019</td>\n",
       "      <td>1</td>\n",
       "      <td>1998</td>\n",
       "      <td>2</td>\n",
       "      <td>145.0</td>\n",
       "      <td>49.6</td>\n",
       "      <td>1.0</td>\n",
       "    </tr>\n",
       "  </tbody>\n",
       "</table>\n",
       "</div>"
      ],
      "text/plain": [
       "   company  model  year  transmission  mileage  fuelType    tax   mpg  \\\n",
       "0        0     12  2017             1    15735         2  150.0  55.4   \n",
       "1        0     17  2016             0    36203         0   20.0  64.2   \n",
       "2        0     12  2016             1    29946         2   30.0  55.4   \n",
       "3        0     15  2017             0    25952         0  145.0  67.3   \n",
       "4        0     14  2019             1     1998         2  145.0  49.6   \n",
       "\n",
       "   engineSize  \n",
       "0         1.4  \n",
       "1         2.0  \n",
       "2         1.4  \n",
       "3         2.0  \n",
       "4         1.0  "
      ]
     },
     "execution_count": 32,
     "metadata": {},
     "output_type": "execute_result"
    }
   ],
   "source": [
    "# Encoding the categorical data into integers\n",
    "le = LabelEncoder()\n",
    "def encode(df_le):\n",
    "    df_le['company'] = le.fit_transform(df_le['company'])\n",
    "    df_le['model'] = le.fit_transform(df_le['model'])\n",
    "    df_le['transmission'] = le.fit_transform(df_le['transmission'])\n",
    "    df_le['fuelType'] = le.fit_transform(df_le['fuelType'])\n",
    "    return df_le\n",
    "\n",
    "X = encode(X)\n",
    "X.head()"
   ]
  },
  {
   "cell_type": "code",
   "execution_count": 33,
   "id": "c50c89c8",
   "metadata": {},
   "outputs": [],
   "source": [
    "# K fold splitting training and testing data\n",
    "kf = KFold(n_splits=5, shuffle=True)\n",
    "# Turning features to array\n",
    "X=X.values"
   ]
  },
  {
   "cell_type": "markdown",
   "id": "b8ccf79b",
   "metadata": {},
   "source": [
    "## Model Implementation"
   ]
  },
  {
   "cell_type": "code",
   "execution_count": 34,
   "id": "e6970f91",
   "metadata": {},
   "outputs": [],
   "source": [
    "# Function that will score models' scores in the dictionary, and will plot the models' accuracy\n",
    "def evaluate_model(model, x, y, return_r2=False, return_cvscore=False, grid=False):\n",
    "    \n",
    "    # K fold splitting training and testing data\n",
    "    for train, test in kf.split(x):\n",
    "        X_train, X_test, y_train, y_test = x[train], x[test], y[train], y[test]\n",
    "        \n",
    "    # Timing and fitting the training data\n",
    "    start_time = time.time() \n",
    "    # Fit the model using the training data\n",
    "    model.fit(X_train, y_train)\n",
    "    time_taken = time.time() - start_time\n",
    "    # Predict the test data\n",
    "    y_pred = model.predict(X_test)\n",
    "\n",
    "    # Model metrics\n",
    "    r2 = str(round(r2_score(y_test, y_pred)*100,2))+'%'\n",
    "    # Cross Validation         \n",
    "    cvrmse = -1*cross_val_score(model,x, y,cv=kf,\n",
    "                             scoring='neg_root_mean_squared_error')\n",
    "    cvscore = round(np.median(cvrmse),2)\n",
    "    # Return rmse when specified\n",
    "    if(return_cvscore == True):\n",
    "        return cvscore\n",
    "    # Displaying scores\n",
    "    print(f\"R2 SCORE: {r2}\\t\",\n",
    "          f\"CV (RMSE) Score: {cvscore}\\t\",\n",
    "          f\"\\tTime taken in seconds: {round((time_taken),2)}\\n\")\n",
    "    \n",
    "    # Print best params if gridsearch is used\n",
    "    if(grid==True):\n",
    "        print('Best Parameters: ', model.best_params_, '\\n')    \n",
    "    \n",
    "    # Plotting regression and boxplot\n",
    "    fig, ax = plt.subplots(1,2, figsize=(15,5))\n",
    "    # Plotting chart\n",
    "    results = pd.DataFrame({'Actual':y_test, 'Predicted':y_pred})\n",
    "    lm=sns.regplot(x='Actual',y='Predicted',data=results, fit_reg=False, ax=ax[0])\n",
    "    # Plotting line\n",
    "    line = np.arange(results.min().min(), results.max().max())\n",
    "    ax[0].plot(line, line, color='red')\n",
    "    ax[0].set_title('Actual vs Predicted')\n",
    "    # Cross validation results in boxplot (rmse)\n",
    "    sns.boxplot(x=cvrmse, ax=ax[1])\n",
    "    ax[1].set_title('CV results of rmse score')\n",
    "    plt.show()"
   ]
  },
  {
   "cell_type": "markdown",
   "id": "e51c54f6",
   "metadata": {},
   "source": [
    "#### Linear Regression"
   ]
  },
  {
   "cell_type": "code",
   "execution_count": 35,
   "id": "64c77df6",
   "metadata": {},
   "outputs": [
    {
     "name": "stdout",
     "output_type": "stream",
     "text": [
      "Linear Regression\n",
      "R2 SCORE: 73.84%\t CV (RMSE) Score: 5055.05\t \tTime taken in seconds: 0.02\n",
      "\n"
     ]
    },
    {
     "data": {
      "image/png": "[encoded data removed]",
      "text/plain": [
       "<Figure size 1080x360 with 2 Axes>"
      ]
     },
     "metadata": {
      "needs_background": "light"
     },
     "output_type": "display_data"
    }
   ],
   "source": [
    "model = LinearRegression()\n",
    "print('Linear Regression')\n",
    "evaluate_model(model, X, Y)"
   ]
  },
  {
   "cell_type": "markdown",
   "id": "0d08e913",
   "metadata": {},
   "source": [
    "#### Decision Tree Regression"
   ]
  },
  {
   "cell_type": "code",
   "execution_count": 36,
   "id": "82abb964",
   "metadata": {},
   "outputs": [
    {
     "name": "stdout",
     "output_type": "stream",
     "text": [
      "Decision Tree Regression\n",
      "R2 SCORE: 93.79%\t CV (RMSE) Score: 2526.11\t \tTime taken in seconds: 0.34\n",
      "\n"
     ]
    },
    {
     "data": {
      "image/png": "[encoded data removed]",
      "text/plain": [
       "<Figure size 1080x360 with 2 Axes>"
      ]
     },
     "metadata": {
      "needs_background": "light"
     },
     "output_type": "display_data"
    }
   ],
   "source": [
    "model = DecisionTreeRegressor()\n",
    "print('Decision Tree Regression')\n",
    "evaluate_model(model, X, Y)"
   ]
  },
  {
   "cell_type": "markdown",
   "id": "c9af6dd5",
   "metadata": {},
   "source": [
    "#### CatBoost Regressor"
   ]
  },
  {
   "cell_type": "code",
   "execution_count": 37,
   "id": "fd1fd5fa",
   "metadata": {},
   "outputs": [
    {
     "name": "stdout",
     "output_type": "stream",
     "text": [
      "CatBoost Regression\n",
      "R2 SCORE: 96.22%\t CV (RMSE) Score: 1882.96\t \tTime taken in seconds: 6.32\n",
      "\n"
     ]
    },
    {
     "data": {
      "image/png": "[encoded data removed]",
      "text/plain": [
       "<Figure size 1080x360 with 2 Axes>"
      ]
     },
     "metadata": {
      "needs_background": "light"
     },
     "output_type": "display_data"
    }
   ],
   "source": [
    "model = CatBoostRegressor(silent=True)\n",
    "print('CatBoost Regression')\n",
    "evaluate_model(model, X, Y)"
   ]
  },
  {
   "cell_type": "markdown",
   "id": "242cf76c",
   "metadata": {},
   "source": [
    "## Model Tuning"
   ]
  },
  {
   "cell_type": "markdown",
   "id": "097be30a",
   "metadata": {},
   "source": [
    "#### Feature Selection"
   ]
  },
  {
   "cell_type": "code",
   "execution_count": 38,
   "id": "4ec20ad4",
   "metadata": {},
   "outputs": [
    {
     "data": {
      "image/png": "[encoded data removed]",
      "text/plain": [
       "<Figure size 720x720 with 1 Axes>"
      ]
     },
     "metadata": {
      "needs_background": "light"
     },
     "output_type": "display_data"
    }
   ],
   "source": [
    "# Feature importance of model\n",
    "feature_imp = pd.DataFrame(model.get_feature_importance())\n",
    "feature_imp.index = df.drop(columns=['price']).columns\n",
    "feature_imp.columns = ['feature importance']\n",
    "feature_imp=feature_imp.sort_values(by='feature importance', ascending=False)\n",
    "# Plot \n",
    "plt.subplots(figsize=(10,10))\n",
    "sns.barplot(x=feature_imp['feature importance'], y=feature_imp.index)\n",
    "plt.title('Feature Importance')\n",
    "plt.show()"
   ]
  },
  {
   "cell_type": "code",
   "execution_count": 42,
   "id": "f5a8b0cb",
   "metadata": {},
   "outputs": [
    {
     "name": "stdout",
     "output_type": "stream",
     "text": [
      "Without fueltype: 1902.93\n",
      "Without tax & ft: 1874.99\n",
      "Without tax:  1848.02\n"
     ]
    }
   ],
   "source": [
    "x=encode(df.drop(columns=['price']))\n",
    "# RMSE CV Score median without fueltype \n",
    "x_fs = x.drop(columns=['fuelType']).values \n",
    "ft_score = evaluate_model(model, x_fs, Y, return_cvscore=True)\n",
    "print('Without fueltype:', ft_score)\n",
    "# Without both fuel type and tax\n",
    "x_fs = x.drop(columns=['fuelType', 'tax']).values \n",
    "both_score = evaluate_model(model, x_fs, Y, return_cvscore=True)\n",
    "print('Without tax & ft:', both_score)\n",
    "# RMSE CV Score median without tax \n",
    "x_fs = x.drop(columns=['tax']).values \n",
    "tax_score = evaluate_model(model, x_fs, Y, return_cvscore=True)\n",
    "print('Without tax: ', tax_score)"
   ]
  },
  {
   "cell_type": "markdown",
   "id": "e81c0b39",
   "metadata": {},
   "source": [
    "Only tax to be removed"
   ]
  },
  {
   "cell_type": "markdown",
   "id": "a852dae2",
   "metadata": {},
   "source": [
    "#### GridSearchCV"
   ]
  },
  {
   "cell_type": "code",
   "execution_count": 43,
   "id": "b649e4e9",
   "metadata": {},
   "outputs": [
    {
     "name": "stdout",
     "output_type": "stream",
     "text": [
      "Parameter tuning results\n",
      "R2 SCORE: 97.24%\t CV (RMSE) Score: 1678.97\t \tTime taken in seconds: 58.96\n",
      "\n",
      "Best Parameters:  {'depth': 8, 'iterations': 1250, 'learning_rate': 0.33} \n",
      "\n"
     ]
    },
    {
     "data": {
      "image/png": "[encoded data removed]",
      "text/plain": [
       "<Figure size 1080x360 with 2 Axes>"
      ]
     },
     "metadata": {
      "needs_background": "light"
     },
     "output_type": "display_data"
    }
   ],
   "source": [
    "# Gridsearch to get best parameters\n",
    "parameters = { \n",
    "'learning_rate': [0.33,1],\n",
    "'depth': [6,8],\n",
    "'iterations': [250,750,1250]\n",
    "} # Best params: 0.33, 8, 1250\n",
    "\n",
    "# Optimizing pipeline using GridSearchCV\n",
    "grid = GridSearchCV(model, parameters, cv=kf)\n",
    "print('Parameter tuning results')\n",
    "evaluate_model(grid, x_fs, Y, grid=True)\n"
   ]
  },
  {
   "cell_type": "markdown",
   "id": "965138ec",
   "metadata": {},
   "source": [
    "## UI Form with Model"
   ]
  },
  {
   "cell_type": "code",
   "execution_count": 44,
   "id": "f1b5e3aa",
   "metadata": {},
   "outputs": [],
   "source": [
    "def model_ui():    \n",
    "    # Extracting user inputs, and changing data types when appropriate\n",
    "    print(\"------------------Please enter the details of the car---------------------------\\n\")\n",
    "    print(\"Please choose one of the following Car Companies:\\n\")\n",
    "    i=0\n",
    "    for company in df.company.unique(): \n",
    "        i=i+1\n",
    "        print(str(i) + '. ' + str(company)) # Displays all the car companies\n",
    "    \n",
    "    company = input(\"\\nCompany of Car: \")\n",
    "    dfi = df.loc[df['company'] == company] # Get data of specific company\n",
    "\n",
    "    print('----------------------------------------------------------------------------------')\n",
    "    print('\\nPlease choose one of the following Car Models:\\n')\n",
    "    i=0\n",
    "    for model in dfi.model.unique(): # Models of the specified company\n",
    "        i=i+1\n",
    "        print(str(i) + '. ' + model) # Display all models of company\n",
    "\n",
    "    model = input(\"\\nModel of Car: \") # Takes the model\n",
    "    print('----------------------------------------------------------------------------------')\n",
    "    year = int(input(\"\\nYear of Car: \")) # Takes the year\n",
    "\n",
    "    print('----------------------------------------------------------------------------------')\n",
    "    print('\\nPlease choose one of the following Transmissions:\\n')\n",
    "    i=0\n",
    "    for transmission in dfi.transmission.unique(): # Transmissions of the specified company\n",
    "        i=i+1\n",
    "        print(str(i) + '. ' + transmission) # Displays transmissions \n",
    "    \n",
    "    transmission = input(\"\\nTransmission of Car: \")\n",
    "    print('----------------------------------------------------------------------------------')\n",
    "    mileage = int(input(\"\\nMileage driven by car: \")) # Takes mileage\n",
    "\n",
    "    print('----------------------------------------------------------------------------------')\n",
    "    print('\\nPlease choose one of the following Fuel Types:\\n')\n",
    "    i=0\n",
    "    for fueltype in dfi.fuelType.unique(): # Fuel types of specified company\n",
    "        i=i+1\n",
    "        print(str(i) + '. ' + fueltype) # Displays fueltypes\n",
    "    fuelType = input(\"\\nFuel Type of Car: \")\n",
    "   \n",
    "    print('----------------------------------------------------------------------------------')\n",
    "    mpg = float(input(\"\\nMiles per Gallon of Car: \")) # Takes car mpg\n",
    "    \n",
    "    print('----------------------------------------------------------------------------------')\n",
    "    engineSize = float(input(\"\\nEngine Size of Car in Litres: \")) # Takes Engine Size\n",
    "    \n",
    "    print('----------------------------------------------------------------------------------')\n",
    "    print('\\nPredicting Price...') # For UI purposes\n",
    "    \n",
    "    # Turning inputs into a pandas df, to merge with the original df\n",
    "    df_ui = pd.DataFrame({'company':[company],\n",
    "                          'model':[model],\n",
    "                          'year':[year],\n",
    "                          'transmission':[transmission],\n",
    "                          'mileage':[mileage],\n",
    "                          'fuelType':[fuelType],\n",
    "                          'tax':[0],\n",
    "                          'mpg':[mpg],\n",
    "                          'engineSize':[engineSize]})\n",
    "    \n",
    "    # Splitting target variable and independent variables\n",
    "    X = df.drop(columns=['price'])\n",
    "    Y = df['price']\n",
    "    # Concatenate independent variables (X) with input\n",
    "    X = pd.concat([df_ui,X], ignore_index=True)\n",
    "    # Encoding data\n",
    "    X = encode(X)\n",
    "    # Removing tax\n",
    "    X=X.drop(columns=['tax'])\n",
    "    # Extracting input row with encoding\n",
    "    X_pred = X.iloc[[0]]\n",
    "    # Predict user input\n",
    "    output = grid.predict(X_pred)\n",
    "    # Display prediction\n",
    "    print('\\nThe predicted price of the car is worth:', \"\\033[1m\"+'£'+str(int(output[0]))+\"\\033[0m\")"
   ]
  },
  {
   "cell_type": "markdown",
   "id": "369664f1",
   "metadata": {},
   "source": [
    "## Test Cases"
   ]
  },
  {
   "cell_type": "markdown",
   "id": "33ca26e5",
   "metadata": {},
   "source": [
    "#### Test Case 1: Company"
   ]
  },
  {
   "cell_type": "markdown",
   "id": "8200ea3b",
   "metadata": {},
   "source": [
    "Mercedes"
   ]
  },
  {
   "cell_type": "code",
   "execution_count": 45,
   "id": "253bd18a",
   "metadata": {},
   "outputs": [
    {
     "name": "stdout",
     "output_type": "stream",
     "text": [
      "------------------Please enter the details of the car---------------------------\n",
      "\n",
      "Please choose one of the following Car Companies:\n",
      "\n",
      "1. Audi\n",
      "2. BMW\n",
      "3. Ford\n",
      "4. Hyundai\n",
      "5. Mercedes\n",
      "6. Skoda\n",
      "7. Toyota\n",
      "8. Vauxhall\n",
      "9. Volkswagen\n",
      "\n",
      "Company of Car: Mercedes\n",
      "----------------------------------------------------------------------------------\n",
      "\n",
      "Please choose one of the following Car Models:\n",
      "\n",
      "1. SLK\n",
      "2. S Class\n",
      "3. SL CLASS\n",
      "4. G Class\n",
      "5. GLE Class\n",
      "6. GLA Class\n",
      "7. A Class\n",
      "8. B Class\n",
      "9. GLC Class\n",
      "10. C Class\n",
      "11. E Class\n",
      "12. GL Class\n",
      "13. CLS Class\n",
      "14. CLC Class\n",
      "15. CLA Class\n",
      "16. V Class\n",
      "17. M Class\n",
      "18. CL Class\n",
      "19. GLS Class\n",
      "20. GLB Class\n",
      "21. X-CLASS\n",
      "22. 180\n",
      "23. CLK\n",
      "24. R Class\n",
      "25. 220\n",
      "26. 200\n",
      "\n",
      "Model of Car: C Class\n",
      "----------------------------------------------------------------------------------\n",
      "\n",
      "Year of Car: 2015\n",
      "----------------------------------------------------------------------------------\n",
      "\n",
      "Please choose one of the following Transmissions:\n",
      "\n",
      "1. Automatic\n",
      "2. Manual\n",
      "3. Semi-Auto\n",
      "\n",
      "Transmission of Car: Automatic\n",
      "----------------------------------------------------------------------------------\n",
      "\n",
      "Mileage driven by car: 1000\n",
      "----------------------------------------------------------------------------------\n",
      "\n",
      "Please choose one of the following Fuel Types:\n",
      "\n",
      "1. Petrol\n",
      "2. Hybrid\n",
      "3. Diesel\n",
      "\n",
      "Fuel Type of Car: Petrol\n",
      "----------------------------------------------------------------------------------\n",
      "\n",
      "Miles per Gallon of Car: 55.4\n",
      "----------------------------------------------------------------------------------\n",
      "\n",
      "Engine Size of Car in Litres: 1.8\n",
      "----------------------------------------------------------------------------------\n",
      "\n",
      "Predicting Price...\n",
      "\n",
      "The predicted price of the car is worth: \u001b[1m£18557\u001b[0m\n"
     ]
    }
   ],
   "source": [
    "model_ui()"
   ]
  },
  {
   "cell_type": "markdown",
   "id": "60957694",
   "metadata": {},
   "source": [
    "Skoda"
   ]
  },
  {
   "cell_type": "code",
   "execution_count": 46,
   "id": "a8009797",
   "metadata": {},
   "outputs": [
    {
     "name": "stdout",
     "output_type": "stream",
     "text": [
      "------------------Please enter the details of the car---------------------------\n",
      "\n",
      "Please choose one of the following Car Companies:\n",
      "\n",
      "1. Audi\n",
      "2. BMW\n",
      "3. Ford\n",
      "4. Hyundai\n",
      "5. Mercedes\n",
      "6. Skoda\n",
      "7. Toyota\n",
      "8. Vauxhall\n",
      "9. Volkswagen\n",
      "\n",
      "Company of Car: Skoda\n",
      "----------------------------------------------------------------------------------\n",
      "\n",
      "Please choose one of the following Car Models:\n",
      "\n",
      "1. Octavia\n",
      "2. Citigo\n",
      "3. Yeti Outdoor\n",
      "4. Superb\n",
      "5. Kodiaq\n",
      "6. Rapid\n",
      "7. Karoq\n",
      "8. Fabia\n",
      "9. Yeti\n",
      "10. Scala\n",
      "11. Roomster\n",
      "12. Kamiq\n",
      "\n",
      "Model of Car: Octavia\n",
      "----------------------------------------------------------------------------------\n",
      "\n",
      "Year of Car: 2015\n",
      "----------------------------------------------------------------------------------\n",
      "\n",
      "Please choose one of the following Transmissions:\n",
      "\n",
      "1. Manual\n",
      "2. Automatic\n",
      "3. Semi-Auto\n",
      "\n",
      "Transmission of Car: Automatic\n",
      "----------------------------------------------------------------------------------\n",
      "\n",
      "Mileage driven by car: 1000\n",
      "----------------------------------------------------------------------------------\n",
      "\n",
      "Please choose one of the following Fuel Types:\n",
      "\n",
      "1. Petrol\n",
      "2. Diesel\n",
      "3. Hybrid\n",
      "\n",
      "Fuel Type of Car: Petrol\n",
      "----------------------------------------------------------------------------------\n",
      "\n",
      "Miles per Gallon of Car: 55.4\n",
      "----------------------------------------------------------------------------------\n",
      "\n",
      "Engine Size of Car in Litres: 1.8\n",
      "----------------------------------------------------------------------------------\n",
      "\n",
      "Predicting Price...\n",
      "\n",
      "The predicted price of the car is worth: \u001b[1m£12199\u001b[0m\n"
     ]
    }
   ],
   "source": [
    "model_ui()"
   ]
  },
  {
   "cell_type": "markdown",
   "id": "c783fd43",
   "metadata": {},
   "source": [
    "Test successful"
   ]
  },
  {
   "cell_type": "markdown",
   "id": "89152d13",
   "metadata": {},
   "source": [
    "#### Test Case 2: Mileage"
   ]
  },
  {
   "cell_type": "markdown",
   "id": "9565a0ab",
   "metadata": {},
   "source": [
    "100"
   ]
  },
  {
   "cell_type": "code",
   "execution_count": 48,
   "id": "b3c15bdd",
   "metadata": {},
   "outputs": [
    {
     "name": "stdout",
     "output_type": "stream",
     "text": [
      "------------------Please enter the details of the car---------------------------\n",
      "\n",
      "Please choose one of the following Car Companies:\n",
      "\n",
      "1. Audi\n",
      "2. BMW\n",
      "3. Ford\n",
      "4. Hyundai\n",
      "5. Mercedes\n",
      "6. Skoda\n",
      "7. Toyota\n",
      "8. Vauxhall\n",
      "9. Volkswagen\n",
      "\n",
      "Company of Car: Audi\n",
      "----------------------------------------------------------------------------------\n",
      "\n",
      "Please choose one of the following Car Models:\n",
      "\n",
      "1. A1\n",
      "2. A6\n",
      "3. A4\n",
      "4. A3\n",
      "5. Q3\n",
      "6. Q5\n",
      "7. A5\n",
      "8. S4\n",
      "9. Q2\n",
      "10. A7\n",
      "11. TT\n",
      "12. Q7\n",
      "13. RS6\n",
      "14. RS3\n",
      "15. A8\n",
      "16. Q8\n",
      "17. RS4\n",
      "18. RS5\n",
      "19. R8\n",
      "20. SQ5\n",
      "21. S8\n",
      "22. SQ7\n",
      "23. S3\n",
      "24. S5\n",
      "25. A2\n",
      "26. RS7\n",
      "\n",
      "Model of Car: A1\n",
      "----------------------------------------------------------------------------------\n",
      "\n",
      "Year of Car: 2015\n",
      "----------------------------------------------------------------------------------\n",
      "\n",
      "Please choose one of the following Transmissions:\n",
      "\n",
      "1. Manual\n",
      "2. Automatic\n",
      "3. Semi-Auto\n",
      "\n",
      "Transmission of Car: Automatic\n",
      "----------------------------------------------------------------------------------\n",
      "\n",
      "Mileage driven by car: 100\n",
      "----------------------------------------------------------------------------------\n",
      "\n",
      "Please choose one of the following Fuel Types:\n",
      "\n",
      "1. Petrol\n",
      "2. Diesel\n",
      "3. Hybrid\n",
      "\n",
      "Fuel Type of Car: Petrol\n",
      "----------------------------------------------------------------------------------\n",
      "\n",
      "Miles per Gallon of Car: 55.4\n",
      "----------------------------------------------------------------------------------\n",
      "\n",
      "Engine Size of Car in Litres: 1.8\n",
      "----------------------------------------------------------------------------------\n",
      "\n",
      "Predicting Price...\n",
      "\n",
      "The predicted price of the car is worth: \u001b[1m£21109\u001b[0m\n"
     ]
    }
   ],
   "source": [
    "model_ui()"
   ]
  },
  {
   "cell_type": "markdown",
   "id": "602e3ad0",
   "metadata": {},
   "source": [
    "25,000"
   ]
  },
  {
   "cell_type": "code",
   "execution_count": 49,
   "id": "d78112be",
   "metadata": {},
   "outputs": [
    {
     "name": "stdout",
     "output_type": "stream",
     "text": [
      "------------------Please enter the details of the car---------------------------\n",
      "\n",
      "Please choose one of the following Car Companies:\n",
      "\n",
      "1. Audi\n",
      "2. BMW\n",
      "3. Ford\n",
      "4. Hyundai\n",
      "5. Mercedes\n",
      "6. Skoda\n",
      "7. Toyota\n",
      "8. Vauxhall\n",
      "9. Volkswagen\n",
      "\n",
      "Company of Car: Audi\n",
      "----------------------------------------------------------------------------------\n",
      "\n",
      "Please choose one of the following Car Models:\n",
      "\n",
      "1. A1\n",
      "2. A6\n",
      "3. A4\n",
      "4. A3\n",
      "5. Q3\n",
      "6. Q5\n",
      "7. A5\n",
      "8. S4\n",
      "9. Q2\n",
      "10. A7\n",
      "11. TT\n",
      "12. Q7\n",
      "13. RS6\n",
      "14. RS3\n",
      "15. A8\n",
      "16. Q8\n",
      "17. RS4\n",
      "18. RS5\n",
      "19. R8\n",
      "20. SQ5\n",
      "21. S8\n",
      "22. SQ7\n",
      "23. S3\n",
      "24. S5\n",
      "25. A2\n",
      "26. RS7\n",
      "\n",
      "Model of Car: A1\n",
      "----------------------------------------------------------------------------------\n",
      "\n",
      "Year of Car: 2015\n",
      "----------------------------------------------------------------------------------\n",
      "\n",
      "Please choose one of the following Transmissions:\n",
      "\n",
      "1. Manual\n",
      "2. Automatic\n",
      "3. Semi-Auto\n",
      "\n",
      "Transmission of Car: Automatic\n",
      "----------------------------------------------------------------------------------\n",
      "\n",
      "Mileage driven by car: 25000\n",
      "----------------------------------------------------------------------------------\n",
      "\n",
      "Please choose one of the following Fuel Types:\n",
      "\n",
      "1. Petrol\n",
      "2. Diesel\n",
      "3. Hybrid\n",
      "\n",
      "Fuel Type of Car: Petrol\n",
      "----------------------------------------------------------------------------------\n",
      "\n",
      "Miles per Gallon of Car: 55.4\n",
      "----------------------------------------------------------------------------------\n",
      "\n",
      "Engine Size of Car in Litres: 1.8\n",
      "----------------------------------------------------------------------------------\n",
      "\n",
      "Predicting Price...\n",
      "\n",
      "The predicted price of the car is worth: \u001b[1m£11861\u001b[0m\n"
     ]
    }
   ],
   "source": [
    "model_ui()"
   ]
  },
  {
   "cell_type": "markdown",
   "id": "6aa6b63f",
   "metadata": {},
   "source": [
    "Test successful"
   ]
  },
  {
   "cell_type": "markdown",
   "id": "027b1f15",
   "metadata": {},
   "source": [
    "#### Test Case 3: Year"
   ]
  },
  {
   "cell_type": "markdown",
   "id": "e1a736a4",
   "metadata": {},
   "source": [
    "2020"
   ]
  },
  {
   "cell_type": "code",
   "execution_count": 50,
   "id": "86feaadb",
   "metadata": {},
   "outputs": [
    {
     "name": "stdout",
     "output_type": "stream",
     "text": [
      "------------------Please enter the details of the car---------------------------\n",
      "\n",
      "Please choose one of the following Car Companies:\n",
      "\n",
      "1. Audi\n",
      "2. BMW\n",
      "3. Ford\n",
      "4. Hyundai\n",
      "5. Mercedes\n",
      "6. Skoda\n",
      "7. Toyota\n",
      "8. Vauxhall\n",
      "9. Volkswagen\n",
      "\n",
      "Company of Car: Audi\n",
      "----------------------------------------------------------------------------------\n",
      "\n",
      "Please choose one of the following Car Models:\n",
      "\n",
      "1. A1\n",
      "2. A6\n",
      "3. A4\n",
      "4. A3\n",
      "5. Q3\n",
      "6. Q5\n",
      "7. A5\n",
      "8. S4\n",
      "9. Q2\n",
      "10. A7\n",
      "11. TT\n",
      "12. Q7\n",
      "13. RS6\n",
      "14. RS3\n",
      "15. A8\n",
      "16. Q8\n",
      "17. RS4\n",
      "18. RS5\n",
      "19. R8\n",
      "20. SQ5\n",
      "21. S8\n",
      "22. SQ7\n",
      "23. S3\n",
      "24. S5\n",
      "25. A2\n",
      "26. RS7\n",
      "\n",
      "Model of Car: A1\n",
      "----------------------------------------------------------------------------------\n",
      "\n",
      "Year of Car: 2020\n",
      "----------------------------------------------------------------------------------\n",
      "\n",
      "Please choose one of the following Transmissions:\n",
      "\n",
      "1. Manual\n",
      "2. Automatic\n",
      "3. Semi-Auto\n",
      "\n",
      "Transmission of Car: Automatic\n",
      "----------------------------------------------------------------------------------\n",
      "\n",
      "Mileage driven by car: 1000\n",
      "----------------------------------------------------------------------------------\n",
      "\n",
      "Please choose one of the following Fuel Types:\n",
      "\n",
      "1. Petrol\n",
      "2. Diesel\n",
      "3. Hybrid\n",
      "\n",
      "Fuel Type of Car: Petrol\n",
      "----------------------------------------------------------------------------------\n",
      "\n",
      "Miles per Gallon of Car: 55.4\n",
      "----------------------------------------------------------------------------------\n",
      "\n",
      "Engine Size of Car in Litres: 1.8\n",
      "----------------------------------------------------------------------------------\n",
      "\n",
      "Predicting Price...\n",
      "\n",
      "The predicted price of the car is worth: \u001b[1m£23157\u001b[0m\n"
     ]
    }
   ],
   "source": [
    "model_ui()"
   ]
  },
  {
   "cell_type": "markdown",
   "id": "c77cde94",
   "metadata": {},
   "source": [
    "2010"
   ]
  },
  {
   "cell_type": "code",
   "execution_count": 51,
   "id": "c274a438",
   "metadata": {},
   "outputs": [
    {
     "name": "stdout",
     "output_type": "stream",
     "text": [
      "------------------Please enter the details of the car---------------------------\n",
      "\n",
      "Please choose one of the following Car Companies:\n",
      "\n",
      "1. Audi\n",
      "2. BMW\n",
      "3. Ford\n",
      "4. Hyundai\n",
      "5. Mercedes\n",
      "6. Skoda\n",
      "7. Toyota\n",
      "8. Vauxhall\n",
      "9. Volkswagen\n",
      "\n",
      "Company of Car: Audi\n",
      "----------------------------------------------------------------------------------\n",
      "\n",
      "Please choose one of the following Car Models:\n",
      "\n",
      "1. A1\n",
      "2. A6\n",
      "3. A4\n",
      "4. A3\n",
      "5. Q3\n",
      "6. Q5\n",
      "7. A5\n",
      "8. S4\n",
      "9. Q2\n",
      "10. A7\n",
      "11. TT\n",
      "12. Q7\n",
      "13. RS6\n",
      "14. RS3\n",
      "15. A8\n",
      "16. Q8\n",
      "17. RS4\n",
      "18. RS5\n",
      "19. R8\n",
      "20. SQ5\n",
      "21. S8\n",
      "22. SQ7\n",
      "23. S3\n",
      "24. S5\n",
      "25. A2\n",
      "26. RS7\n",
      "\n",
      "Model of Car: A1\n",
      "----------------------------------------------------------------------------------\n",
      "\n",
      "Year of Car: 2010\n",
      "----------------------------------------------------------------------------------\n",
      "\n",
      "Please choose one of the following Transmissions:\n",
      "\n",
      "1. Manual\n",
      "2. Automatic\n",
      "3. Semi-Auto\n",
      "\n",
      "Transmission of Car: Automatic\n",
      "----------------------------------------------------------------------------------\n",
      "\n",
      "Mileage driven by car: 1000\n",
      "----------------------------------------------------------------------------------\n",
      "\n",
      "Please choose one of the following Fuel Types:\n",
      "\n",
      "1. Petrol\n",
      "2. Diesel\n",
      "3. Hybrid\n",
      "\n",
      "Fuel Type of Car: Petrol\n",
      "----------------------------------------------------------------------------------\n",
      "\n",
      "Miles per Gallon of Car: 55.4\n",
      "----------------------------------------------------------------------------------\n",
      "\n",
      "Engine Size of Car in Litres: 1.8\n",
      "----------------------------------------------------------------------------------\n",
      "\n",
      "Predicting Price...\n",
      "\n",
      "The predicted price of the car is worth: \u001b[1m£11810\u001b[0m\n"
     ]
    }
   ],
   "source": [
    "model_ui()"
   ]
  },
  {
   "cell_type": "markdown",
   "id": "52ada99b",
   "metadata": {},
   "source": [
    "Test successful"
   ]
  }
 ],
 "metadata": {
  "kernelspec": {
   "display_name": "Python 3 (ipykernel)",
   "language": "python",
   "name": "python3"
  },
  "language_info": {
   "codemirror_mode": {
    "name": "ipython",
    "version": 3
   },
   "file_extension": ".py",
   "mimetype": "text/x-python",
   "name": "python",
   "nbconvert_exporter": "python",
   "pygments_lexer": "ipython3",
   "version": "3.8.8"
  }
 },
 "nbformat": 4,
 "nbformat_minor": 5
}
