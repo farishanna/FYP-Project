{
 "cells": [
  {
   "cell_type": "markdown",
   "id": "ffff5198",
   "metadata": {},
   "source": [
    "# Car Price Predictor"
   ]
  },
  {
   "cell_type": "markdown",
   "id": "1aa7e185",
   "metadata": {},
   "source": [
    "## Importing Libraries"
   ]
  },
  {
   "cell_type": "code",
   "execution_count": null,
   "id": "558ceb41",
   "metadata": {},
   "outputs": [],
   "source": [
    "# For data manipulation\n",
    "import pandas as pd\n",
    "import numpy as np\n",
    "import time\n",
    "\n",
    "# For plotting \n",
    "import matplotlib.pyplot as plt\n",
    "%matplotlib inline\n",
    "import seaborn as sns\n",
    "\n",
    "# For encoding categorical data\n",
    "from sklearn.preprocessing import LabelEncoder\n",
    "# Cross validation and hyperparameter tuning\n",
    "from sklearn.model_selection import cross_val_score, KFold, GridSearchCV\n",
    "# Machine Learning models\n",
    "from sklearn.linear_model import LinearRegression\n",
    "from sklearn.tree import DecisionTreeRegressor\n",
    "from catboost import CatBoostRegressor\n",
    "# Metrics for evaluation\n",
    "from sklearn.metrics import mean_squared_error, r2_score"
   ]
  },
  {
   "cell_type": "markdown",
   "id": "3d3005ac",
   "metadata": {},
   "source": [
    "## Importing and Cleaning Data"
   ]
  },
  {
   "cell_type": "code",
   "execution_count": null,
   "id": "eb8f0f88",
   "metadata": {},
   "outputs": [],
   "source": [
    "# Gathering the Data\n",
    "audi = pd.read_csv('audi.csv')\n",
    "bmw = pd.read_csv('bmw.csv')\n",
    "ford = pd.read_csv('ford.csv')\n",
    "hyundi = pd.read_csv('hyundi.csv')\n",
    "merc = pd.read_csv('merc.csv')\n",
    "skoda = pd.read_csv('skoda.csv')\n",
    "toyota = pd.read_csv('toyota.csv')\n",
    "vauxhall = pd.read_csv('vauxhall.csv')\n",
    "vw = pd.read_csv('vw.csv')\n",
    "\n",
    "# Adding the company columns to the data frames\n",
    "audi['company'] = 'Audi'\n",
    "bmw['company'] = 'BMW'\n",
    "ford['company'] = 'Ford'\n",
    "hyundi['company'] = 'Hyundai'\n",
    "merc['company'] = 'Mercedes'\n",
    "skoda['company'] = 'Skoda'\n",
    "toyota['company'] = 'Toyota'\n",
    "vauxhall['company'] = 'Vauxhall'\n",
    "vw['company'] = 'Volkswagen'\n",
    "\n",
    "# Append all the data into one dataframe\n",
    "df = audi.append([bmw, ford, hyundi, merc, skoda, toyota, vauxhall, vw], sort=False)\n",
    "\n",
    "# Move the company column to the left\n",
    "df = df[ ['company'] + [ col for col in df.columns if col != 'company' ] ]\n",
    "# Move the price column to the right\n",
    "df = df[ [ col for col in df.columns if col != 'price' ] + ['price'] ]\n",
    "\n",
    "# Removing empty spaces\n",
    "for i in df.columns:\n",
    "    if df[i].dtypes == 'O':\n",
    "        df[i] = df[i].str.strip()\n",
    "        \n",
    "df.head()"
   ]
  },
  {
   "cell_type": "code",
   "execution_count": null,
   "id": "364cf9de",
   "metadata": {},
   "outputs": [],
   "source": [
    "# Checking for any null values\n",
    "df.isnull().sum()"
   ]
  },
  {
   "cell_type": "code",
   "execution_count": null,
   "id": "544a86ec",
   "metadata": {},
   "outputs": [],
   "source": [
    "# Heatmap of null values\n",
    "sns.heatmap(df.isnull())\n",
    "plt.show()"
   ]
  },
  {
   "cell_type": "code",
   "execution_count": null,
   "id": "9be29709",
   "metadata": {},
   "outputs": [],
   "source": [
    "# Filling null values of tax column with tax(£) column\n",
    "df['tax'] = df['tax'].fillna(df['tax(£)'])\n",
    "# Dropping not needed column\n",
    "df = df.drop(columns=['tax(£)'])"
   ]
  },
  {
   "cell_type": "code",
   "execution_count": null,
   "id": "71cdf965",
   "metadata": {},
   "outputs": [],
   "source": [
    "# Getting data statistics\n",
    "df.describe()"
   ]
  },
  {
   "cell_type": "code",
   "execution_count": null,
   "id": "76bd9bf1",
   "metadata": {},
   "outputs": [],
   "source": [
    "# Removing 2060 year row\n",
    "df = df.loc[df['year'] <= 2020]"
   ]
  },
  {
   "cell_type": "code",
   "execution_count": null,
   "id": "e5d4348c",
   "metadata": {},
   "outputs": [],
   "source": [
    "# Ensuring engine size of zero are only electric\n",
    "df.loc[df['engineSize'] == 0]['fuelType'].describe()"
   ]
  },
  {
   "cell_type": "code",
   "execution_count": null,
   "id": "e0b3c3ac",
   "metadata": {},
   "outputs": [],
   "source": [
    "# It is clear that the majority of cars with an engine size of zero are not electric, therefore will be removed\n",
    "df = df.loc[df['engineSize'] != 0]"
   ]
  },
  {
   "cell_type": "code",
   "execution_count": null,
   "id": "0d8472b8",
   "metadata": {},
   "outputs": [],
   "source": [
    "# Checking for electric cars\n",
    "df.loc[df['fuelType'] == 'Electric']"
   ]
  },
  {
   "cell_type": "code",
   "execution_count": 11,
   "id": "03ffa292",
   "metadata": {},
   "outputs": [],
   "source": [
    "# It would be best to remove the electrical cars\n",
    "df = df.loc[df['fuelType'] != 'Electric']"
   ]
  },
  {
   "cell_type": "code",
   "execution_count": 12,
   "id": "8a2ad684",
   "metadata": {},
   "outputs": [
    {
     "name": "stdout",
     "output_type": "stream",
     "text": [
      "<class 'pandas.core.frame.DataFrame'>\n",
      "Int64Index: 98909 entries, 0 to 15156\n",
      "Data columns (total 10 columns):\n",
      " #   Column        Non-Null Count  Dtype  \n",
      "---  ------        --------------  -----  \n",
      " 0   company       98909 non-null  object \n",
      " 1   model         98909 non-null  object \n",
      " 2   year          98909 non-null  int64  \n",
      " 3   transmission  98909 non-null  object \n",
      " 4   mileage       98909 non-null  int64  \n",
      " 5   fuelType      98909 non-null  object \n",
      " 6   tax           98909 non-null  float64\n",
      " 7   mpg           98909 non-null  float64\n",
      " 8   engineSize    98909 non-null  float64\n",
      " 9   price         98909 non-null  int64  \n",
      "dtypes: float64(3), int64(3), object(4)\n",
      "memory usage: 8.3+ MB\n"
     ]
    }
   ],
   "source": [
    "# Ensuring the data types are correct\n",
    "df.info()"
   ]
  },
  {
   "cell_type": "markdown",
   "id": "ffbdb217",
   "metadata": {},
   "source": [
    "# Exploratory Data Analysis (EDA)"
   ]
  },
  {
   "cell_type": "markdown",
   "id": "1733a7b6",
   "metadata": {},
   "source": [
    "###### Company and Price"
   ]
  },
  {
   "cell_type": "code",
   "execution_count": 13,
   "id": "1158a9c1",
   "metadata": {},
   "outputs": [
    {
     "data": {
      "image/png": "[encoded data removed]",
      "text/plain": [
       "<Figure size 432x288 with 1 Axes>"
      ]
     },
     "metadata": {
      "needs_background": "light"
     },
     "output_type": "display_data"
    }
   ],
   "source": [
    "sns.boxplot(data=df, x='company', y='price')\n",
    "plt.show()"
   ]
  },
  {
   "cell_type": "code",
   "execution_count": 14,
   "id": "efc175d2",
   "metadata": {},
   "outputs": [
    {
     "data": {
      "text/plain": [
       "98909"
      ]
     },
     "execution_count": 14,
     "metadata": {},
     "output_type": "execute_result"
    }
   ],
   "source": [
    "# Length before removing outliers\n",
    "len(df)"
   ]
  },
  {
   "cell_type": "code",
   "execution_count": 15,
   "id": "fd2c7df0",
   "metadata": {},
   "outputs": [
    {
     "data": {
      "text/plain": [
       "98904"
      ]
     },
     "execution_count": 15,
     "metadata": {},
     "output_type": "execute_result"
    }
   ],
   "source": [
    "company_outliers ={ # Manually listing the outliers\n",
    "    'BMW' : 100000,\n",
    "    'Hyundai' : 60000,\n",
    "    'Skoda' : 60000,\n",
    "    'Vauxhall' : 30000,\n",
    "}\n",
    "# Removing outliers based on company_outliers\n",
    "for company in list(company_outliers):\n",
    "    value = company_outliers[company]\n",
    "    df = df.loc[~((df['price'] > value) & (df['company'] == company))]\n",
    "# Length after removing outliers\n",
    "len(df)    "
   ]
  },
  {
   "cell_type": "markdown",
   "id": "e6252149",
   "metadata": {},
   "source": [
    "###### Year and Price"
   ]
  },
  {
   "cell_type": "code",
   "execution_count": 16,
   "id": "bf9eb3b2",
   "metadata": {},
   "outputs": [
    {
     "data": {
      "image/png": "[encoded data removed]",
      "text/plain": [
       "<Figure size 432x288 with 1 Axes>"
      ]
     },
     "metadata": {
      "needs_background": "light"
     },
     "output_type": "display_data"
    }
   ],
   "source": [
    "sns.boxplot(x=df['year'])\n",
    "plt.show()"
   ]
  },
  {
   "cell_type": "code",
   "execution_count": 17,
   "id": "1f8b4282",
   "metadata": {},
   "outputs": [
    {
     "data": {
      "text/plain": [
       "98903"
      ]
     },
     "execution_count": 17,
     "metadata": {},
     "output_type": "execute_result"
    }
   ],
   "source": [
    "df = df.loc[df['year'] > 1970]\n",
    "len(df)"
   ]
  },
  {
   "cell_type": "markdown",
   "id": "50a2b5ec",
   "metadata": {},
   "source": [
    "###### Mileage and Price"
   ]
  },
  {
   "cell_type": "code",
   "execution_count": 18,
   "id": "bcb298d7",
   "metadata": {},
   "outputs": [
    {
     "data": {
      "image/png": "[encoded data removed]",
      "text/plain": [
       "<Figure size 432x288 with 1 Axes>"
      ]
     },
     "metadata": {
      "needs_background": "light"
     },
     "output_type": "display_data"
    }
   ],
   "source": [
    "sns.boxplot(x=df['mileage'])\n",
    "plt.show()"
   ]
  },
  {
   "cell_type": "code",
   "execution_count": 19,
   "id": "72da52ab",
   "metadata": {},
   "outputs": [
    {
     "data": {
      "text/plain": [
       "98894"
      ]
     },
     "execution_count": 19,
     "metadata": {},
     "output_type": "execute_result"
    }
   ],
   "source": [
    "df = df.loc[df['mileage'] < 200000]\n",
    "len(df)"
   ]
  },
  {
   "cell_type": "markdown",
   "id": "9d5a9b58",
   "metadata": {},
   "source": [
    "###### Miles per Gallon and Price"
   ]
  },
  {
   "cell_type": "code",
   "execution_count": 20,
   "id": "dfebe145",
   "metadata": {},
   "outputs": [
    {
     "data": {
      "image/png": "[encoded data removed]",
      "text/plain": [
       "<Figure size 432x288 with 1 Axes>"
      ]
     },
     "metadata": {
      "needs_background": "light"
     },
     "output_type": "display_data"
    }
   ],
   "source": [
    "sns.boxplot(x=df['mpg'])\n",
    "plt.show()"
   ]
  },
  {
   "cell_type": "code",
   "execution_count": 21,
   "id": "13b9eea4",
   "metadata": {},
   "outputs": [
    {
     "data": {
      "text/plain": [
       "98887"
      ]
     },
     "execution_count": 21,
     "metadata": {},
     "output_type": "execute_result"
    }
   ],
   "source": [
    "df = df.loc[df['mpg'] < 300]\n",
    "len(df)"
   ]
  },
  {
   "cell_type": "markdown",
   "id": "bf2e2325",
   "metadata": {},
   "source": [
    "The chart shows that there is an increase in price the less the miles per gallon is."
   ]
  },
  {
   "cell_type": "markdown",
   "id": "53f05041",
   "metadata": {},
   "source": [
    "###### Tax and Price"
   ]
  },
  {
   "cell_type": "code",
   "execution_count": 22,
   "id": "d7933a4b",
   "metadata": {},
   "outputs": [
    {
     "data": {
      "image/png": "[encoded data removed]",
      "text/plain": [
       "<Figure size 432x288 with 1 Axes>"
      ]
     },
     "metadata": {
      "needs_background": "light"
     },
     "output_type": "display_data"
    }
   ],
   "source": [
    "sns.boxplot(x=df['tax'])\n",
    "plt.show()"
   ]
  },
  {
   "cell_type": "markdown",
   "id": "b01c1568",
   "metadata": {},
   "source": [
    "There seems to be no correlation between the price and tax. Therefore, we can remove this column."
   ]
  },
  {
   "cell_type": "markdown",
   "id": "ed0380c3",
   "metadata": {},
   "source": [
    "###### Engine Size and Price"
   ]
  },
  {
   "cell_type": "code",
   "execution_count": 23,
   "id": "53980342",
   "metadata": {},
   "outputs": [
    {
     "name": "stderr",
     "output_type": "stream",
     "text": [
      "/Users/farishanna/opt/anaconda3/lib/python3.8/site-packages/seaborn/_decorators.py:36: FutureWarning: Pass the following variable as a keyword arg: x. From version 0.12, the only valid positional argument will be `data`, and passing other arguments without an explicit keyword will result in an error or misinterpretation.\n",
      "  warnings.warn(\n"
     ]
    },
    {
     "data": {
      "image/png": "[encoded data removed]",
      "text/plain": [
       "<Figure size 432x288 with 1 Axes>"
      ]
     },
     "metadata": {
      "needs_background": "light"
     },
     "output_type": "display_data"
    }
   ],
   "source": [
    "sns.boxplot(df['engineSize'])\n",
    "plt.show()"
   ]
  },
  {
   "cell_type": "markdown",
   "id": "c0fcdbcd",
   "metadata": {},
   "source": [
    "There is not much correlation between the engine size and the price. Only that usually more expensive cars can have a large engine size."
   ]
  },
  {
   "cell_type": "markdown",
   "id": "6aa5be3e",
   "metadata": {},
   "source": [
    "###### Transmission and Price"
   ]
  },
  {
   "cell_type": "code",
   "execution_count": 24,
   "id": "d3b75074",
   "metadata": {},
   "outputs": [],
   "source": [
    "def cat_clean(column):\n",
    "    # Creates pivot table of the mean of prices of each transmission type\n",
    "    table = pd.pivot_table(df, values='price', index=[column], aggfunc='count')\n",
    "    # Creating pie chart\n",
    "    plt.pie(table.price, labels=table.index)\n",
    "    # Adding title\n",
    "    plt.title('Counts of cars by ' + column)\n",
    "    # Showing graph\n",
    "    plt.show()"
   ]
  },
  {
   "cell_type": "code",
   "execution_count": 25,
   "id": "3a456556",
   "metadata": {},
   "outputs": [
    {
     "data": {
      "image/png": "[encoded data removed]",
      "text/plain": [
       "<Figure size 432x288 with 1 Axes>"
      ]
     },
     "metadata": {},
     "output_type": "display_data"
    }
   ],
   "source": [
    "cat_clean('transmission')"
   ]
  },
  {
   "cell_type": "code",
   "execution_count": 26,
   "id": "3436cd4d",
   "metadata": {},
   "outputs": [
    {
     "data": {
      "text/plain": [
       "98879"
      ]
     },
     "execution_count": 26,
     "metadata": {},
     "output_type": "execute_result"
    }
   ],
   "source": [
    "df = df.loc[df['transmission'] != 'Other']\n",
    "len(df) "
   ]
  },
  {
   "cell_type": "markdown",
   "id": "8abc33e5",
   "metadata": {},
   "source": [
    "###### Fuel Type and Price"
   ]
  },
  {
   "cell_type": "code",
   "execution_count": 27,
   "id": "4dcde576",
   "metadata": {},
   "outputs": [
    {
     "data": {
      "image/png": "[encoded data removed]",
      "text/plain": [
       "<Figure size 432x288 with 1 Axes>"
      ]
     },
     "metadata": {},
     "output_type": "display_data"
    }
   ],
   "source": [
    "cat_clean('fuelType')"
   ]
  },
  {
   "cell_type": "code",
   "execution_count": 28,
   "id": "004beee8",
   "metadata": {},
   "outputs": [
    {
     "data": {
      "text/plain": [
       "98640"
      ]
     },
     "execution_count": 28,
     "metadata": {},
     "output_type": "execute_result"
    }
   ],
   "source": [
    "df = df.loc[df['fuelType'] != 'Other']\n",
    "len(df)"
   ]
  },
  {
   "cell_type": "markdown",
   "id": "4b6b2330",
   "metadata": {},
   "source": [
    "###### Further analysis"
   ]
  },
  {
   "cell_type": "code",
   "execution_count": 29,
   "id": "b3cb40ef",
   "metadata": {},
   "outputs": [
    {
     "data": {
      "image/png": "[encoded data removed]",
      "text/plain": [
       "<Figure size 432x288 with 2 Axes>"
      ]
     },
     "metadata": {
      "needs_background": "light"
     },
     "output_type": "display_data"
    }
   ],
   "source": [
    "# Checking for any correlations in the dataframe using a heatmap\n",
    "sns.heatmap(df.corr(), annot=True)\n",
    "plt.show()"
   ]
  },
  {
   "cell_type": "code",
   "execution_count": 30,
   "id": "1d6d1c8b",
   "metadata": {},
   "outputs": [
    {
     "data": {
      "image/png": "[encoded data removed]",
      "text/plain": [
       "<Figure size 1080x1080 with 42 Axes>"
      ]
     },
     "metadata": {
      "needs_background": "light"
     },
     "output_type": "display_data"
    }
   ],
   "source": [
    "sns.pairplot(df.corr())\n",
    "plt.show()"
   ]
  },
  {
   "cell_type": "markdown",
   "id": "338a746a",
   "metadata": {},
   "source": [
    "## Data Pre-Processing"
   ]
  },
  {
   "cell_type": "code",
   "execution_count": 31,
   "id": "83b21e50",
   "metadata": {},
   "outputs": [],
   "source": [
    "# # Splitting target variable (price) and independent variables\n",
    "X = df.drop(columns=['price'])\n",
    "Y = df['price'].values"
   ]
  },
  {
   "cell_type": "code",
   "execution_count": 32,
   "id": "7b423e69",
   "metadata": {},
   "outputs": [
    {
     "data": {
      "text/html": [
       "<div>\n",
       "<style scoped>\n",
       "    .dataframe tbody tr th:only-of-type {\n",
       "        vertical-align: middle;\n",
       "    }\n",
       "\n",
       "    .dataframe tbody tr th {\n",
       "        vertical-align: top;\n",
       "    }\n",
       "\n",
       "    .dataframe thead th {\n",
       "        text-align: right;\n",
       "    }\n",
       "</style>\n",
       "<table border=\"1\" class=\"dataframe\">\n",
       "  <thead>\n",
       "    <tr style=\"text-align: right;\">\n",
       "      <th></th>\n",
       "      <th>company</th>\n",
       "      <th>model</th>\n",
       "      <th>year</th>\n",
       "      <th>transmission</th>\n",
       "      <th>mileage</th>\n",
       "      <th>fuelType</th>\n",
       "      <th>tax</th>\n",
       "      <th>mpg</th>\n",
       "      <th>engineSize</th>\n",
       "    </tr>\n",
       "  </thead>\n",
       "  <tbody>\n",
       "    <tr>\n",
       "      <th>0</th>\n",
       "      <td>0</td>\n",
       "      <td>12</td>\n",
       "      <td>2017</td>\n",
       "      <td>1</td>\n",
       "      <td>15735</td>\n",
       "      <td>2</td>\n",
       "      <td>150.0</td>\n",
       "      <td>55.4</td>\n",
       "      <td>1.4</td>\n",
       "    </tr>\n",
       "    <tr>\n",
       "      <th>1</th>\n",
       "      <td>0</td>\n",
       "      <td>17</td>\n",
       "      <td>2016</td>\n",
       "      <td>0</td>\n",
       "      <td>36203</td>\n",
       "      <td>0</td>\n",
       "      <td>20.0</td>\n",
       "      <td>64.2</td>\n",
       "      <td>2.0</td>\n",
       "    </tr>\n",
       "    <tr>\n",
       "      <th>2</th>\n",
       "      <td>0</td>\n",
       "      <td>12</td>\n",
       "      <td>2016</td>\n",
       "      <td>1</td>\n",
       "      <td>29946</td>\n",
       "      <td>2</td>\n",
       "      <td>30.0</td>\n",
       "      <td>55.4</td>\n",
       "      <td>1.4</td>\n",
       "    </tr>\n",
       "    <tr>\n",
       "      <th>3</th>\n",
       "      <td>0</td>\n",
       "      <td>15</td>\n",
       "      <td>2017</td>\n",
       "      <td>0</td>\n",
       "      <td>25952</td>\n",
       "      <td>0</td>\n",
       "      <td>145.0</td>\n",
       "      <td>67.3</td>\n",
       "      <td>2.0</td>\n",
       "    </tr>\n",
       "    <tr>\n",
       "      <th>4</th>\n",
       "      <td>0</td>\n",
       "      <td>14</td>\n",
       "      <td>2019</td>\n",
       "      <td>1</td>\n",
       "      <td>1998</td>\n",
       "      <td>2</td>\n",
       "      <td>145.0</td>\n",
       "      <td>49.6</td>\n",
       "      <td>1.0</td>\n",
       "    </tr>\n",
       "  </tbody>\n",
       "</table>\n",
       "</div>"
      ],
      "text/plain": [
       "   company  model  year  transmission  mileage  fuelType    tax   mpg  \\\n",
       "0        0     12  2017             1    15735         2  150.0  55.4   \n",
       "1        0     17  2016             0    36203         0   20.0  64.2   \n",
       "2        0     12  2016             1    29946         2   30.0  55.4   \n",
       "3        0     15  2017             0    25952         0  145.0  67.3   \n",
       "4        0     14  2019             1     1998         2  145.0  49.6   \n",
       "\n",
       "   engineSize  \n",
       "0         1.4  \n",
       "1         2.0  \n",
       "2         1.4  \n",
       "3         2.0  \n",
       "4         1.0  "
      ]
     },
     "execution_count": 32,
     "metadata": {},
     "output_type": "execute_result"
    }
   ],
   "source": [
    "# Encoding the categorical data into integers\n",
    "le = LabelEncoder()\n",
    "def encode(df_le):\n",
    "    df_le['company'] = le.fit_transform(df_le['company'])\n",
    "    df_le['model'] = le.fit_transform(df_le['model'])\n",
    "    df_le['transmission'] = le.fit_transform(df_le['transmission'])\n",
    "    df_le['fuelType'] = le.fit_transform(df_le['fuelType'])\n",
    "    return df_le\n",
    "\n",
    "X = encode(X)\n",
    "X.head()"
   ]
  },
  {
   "cell_type": "code",
   "execution_count": 33,
   "id": "c50c89c8",
   "metadata": {},
   "outputs": [],
   "source": [
    "# K fold splitting training and testing data\n",
    "kf = KFold(n_splits=5, shuffle=True)\n",
    "# Turning features to array\n",
    "X=X.values"
   ]
  },
  {
   "cell_type": "markdown",
   "id": "b8ccf79b",
   "metadata": {},
   "source": [
    "## Model Implementation"
   ]
  },
  {
   "cell_type": "code",
   "execution_count": 34,
   "id": "e6970f91",
   "metadata": {},
   "outputs": [],
   "source": [
    "# Function that will score models' scores in the dictionary, and will plot the models' accuracy\n",
    "def evaluate_model(model, x, y, return_r2=False, grid=False):\n",
    "    \n",
    "    # K fold splitting training and testing data\n",
    "    for train, test in kf.split(x):\n",
    "        X_train, X_test, y_train, y_test = x[train], x[test], y[train], y[test]\n",
    "        \n",
    "    # Timing and fitting the training data\n",
    "    start_time = time.time() \n",
    "    # Fit the model using the training data\n",
    "    model.fit(X_train, y_train)\n",
    "    time_taken = time.time() - start_time\n",
    "    # Predict the test data\n",
    "    y_pred = model.predict(X_test)\n",
    "\n",
    "    # Model metrics\n",
    "    r2 = r2_score(y_test, y_pred)*100\n",
    "    # Returns r2 score when specified\n",
    "    if(return_r2 == True):\n",
    "        return str(round(r2,2))+'%'\n",
    "    \n",
    "    # Cross Validation         \n",
    "    cvrmse = cross_val_score(model,x, y,cv=kf,\n",
    "                             scoring='neg_root_mean_squared_error')\n",
    "    \n",
    "    # Displaying scores\n",
    "    print(f\"R2 SCORE: {str(round(r2,2))+'%'}\\t\",\n",
    "          f\"CV (RMSE) Score: {round(-1*cvrmse.mean(),2)}\\t\",\n",
    "          f\"\\tTime taken in seconds: {round((time_taken),2)}\\n\")\n",
    "    \n",
    "    # Print best params if gridsearch is used\n",
    "    if(grid==True):\n",
    "        print('Best Parameters: ', model.best_params_, '\\n')    \n",
    "    \n",
    "    # Plotting regression and boxplot\n",
    "    fig, ax = plt.subplots(1,2, figsize=(15,5))\n",
    "    \n",
    "    # Plotting chart\n",
    "    results = pd.DataFrame({'Actual':y_test, 'Predicted':y_pred})\n",
    "    lm=sns.regplot(x='Actual',y='Predicted',data=results, fit_reg=False, ax=ax[0])\n",
    "    # Plotting line\n",
    "    line = np.arange(results.min().min(), results.max().max())\n",
    "    ax[0].plot(line, line, color='red')\n",
    "    ax[0].set_title('Actual vs Predicted')\n",
    "    \n",
    "    # Cross validation results in boxplot (rmse)\n",
    "    sns.boxplot(x=cvrmse, ax=ax[1])\n",
    "    ax[1].set_title('CV results of rmse score')\n",
    "    plt.show()"
   ]
  },
  {
   "cell_type": "markdown",
   "id": "e51c54f6",
   "metadata": {},
   "source": [
    "#### Linear Regression"
   ]
  },
  {
   "cell_type": "code",
   "execution_count": 35,
   "id": "64c77df6",
   "metadata": {},
   "outputs": [
    {
     "name": "stdout",
     "output_type": "stream",
     "text": [
      "Linear Regression\n",
      "R2 SCORE: 73.42%\t CV (RMSE) Score: 5057.47\t \tTime taken in seconds: 0.02\n",
      "\n"
     ]
    },
    {
     "data": {
      "image/png": "[encoded data removed]",
      "text/plain": [
       "<Figure size 1080x360 with 2 Axes>"
      ]
     },
     "metadata": {
      "needs_background": "light"
     },
     "output_type": "display_data"
    }
   ],
   "source": [
    "model = LinearRegression()\n",
    "print('Linear Regression')\n",
    "evaluate_model(model, X, Y)"
   ]
  },
  {
   "cell_type": "markdown",
   "id": "0d08e913",
   "metadata": {},
   "source": [
    "#### Decision Tree Regression"
   ]
  },
  {
   "cell_type": "code",
   "execution_count": 36,
   "id": "82abb964",
   "metadata": {},
   "outputs": [
    {
     "name": "stdout",
     "output_type": "stream",
     "text": [
      "Decision Tree Regression\n",
      "R2 SCORE: 93.91%\t CV (RMSE) Score: 2496.42\t \tTime taken in seconds: 0.37\n",
      "\n"
     ]
    },
    {
     "data": {
      "image/png": "[encoded data removed]",
      "text/plain": [
       "<Figure size 1080x360 with 2 Axes>"
      ]
     },
     "metadata": {
      "needs_background": "light"
     },
     "output_type": "display_data"
    }
   ],
   "source": [
    "model = DecisionTreeRegressor()\n",
    "print('Decision Tree Regression')\n",
    "evaluate_model(model, X, Y)"
   ]
  },
  {
   "cell_type": "markdown",
   "id": "c9af6dd5",
   "metadata": {},
   "source": [
    "#### CatBoost Regressor"
   ]
  },
  {
   "cell_type": "code",
   "execution_count": 37,
   "id": "fd1fd5fa",
   "metadata": {},
   "outputs": [
    {
     "name": "stdout",
     "output_type": "stream",
     "text": [
      "CatBoost Regression\n",
      "R2 SCORE: 96.62%\t CV (RMSE) Score: 1878.13\t \tTime taken in seconds: 7.11\n",
      "\n"
     ]
    },
    {
     "data": {
      "image/png": "[encoded data removed]",
      "text/plain": [
       "<Figure size 1080x360 with 2 Axes>"
      ]
     },
     "metadata": {
      "needs_background": "light"
     },
     "output_type": "display_data"
    }
   ],
   "source": [
    "model = CatBoostRegressor(silent=True)\n",
    "print('CatBoost Regression')\n",
    "evaluate_model(model, X, Y)"
   ]
  },
  {
   "cell_type": "markdown",
   "id": "242cf76c",
   "metadata": {},
   "source": [
    "## Model Tuning"
   ]
  },
  {
   "cell_type": "markdown",
   "id": "097be30a",
   "metadata": {},
   "source": [
    "#### Feature Selection"
   ]
  },
  {
   "cell_type": "code",
   "execution_count": 38,
   "id": "4ec20ad4",
   "metadata": {},
   "outputs": [
    {
     "data": {
      "image/png": "[encoded data removed]",
      "text/plain": [
       "<Figure size 720x720 with 1 Axes>"
      ]
     },
     "metadata": {
      "needs_background": "light"
     },
     "output_type": "display_data"
    }
   ],
   "source": [
    "# Feature importance of model\n",
    "feature_imp = pd.DataFrame(model.get_feature_importance()).sort_values(by=0,ascending=False)\n",
    "feature_imp.index = df.drop(columns=['price']).columns\n",
    "feature_imp.columns = ['feature importance']\n",
    "# Plot \n",
    "plt.subplots(figsize=(10,10))\n",
    "sns.barplot(x=feature_imp['feature importance'], y=feature_imp.index)\n",
    "plt.title('Feature Importance')\n",
    "plt.show()"
   ]
  },
  {
   "cell_type": "code",
   "execution_count": 39,
   "id": "182f8869",
   "metadata": {},
   "outputs": [
    {
     "name": "stdout",
     "output_type": "stream",
     "text": [
      "R2 score of model with the first 1 feature\\s: 28.98%\n",
      "R2 score of model with the first 2 feature\\s: 60.66%\n",
      "R2 score of model with the first 3 feature\\s: 84.61%\n",
      "R2 score of model with the first 4 feature\\s: 87.21%\n",
      "R2 score of model with the first 5 feature\\s: 87.76%\n",
      "R2 score of model with the first 6 feature\\s: 90.99%\n",
      "R2 score of model with the first 7 feature\\s: 89.42%\n",
      "R2 score of model with the first 8 feature\\s: 95.45%\n"
     ]
    }
   ],
   "source": [
    "# Checking for the best features\n",
    "x=encode(df.drop(columns=['price']))\n",
    "for i in range(1,len(feature_imp.index)):\n",
    "    # Remove columns after column i\n",
    "    x_fs = x.drop(columns=feature_imp.index[i:]).values \n",
    "    score = evaluate_model(model, x_fs, Y, return_r2=True) # only return r2 score\n",
    "    print(f'R2 score of model with the first {i} feature\\s: {score}')\n",
    "    i=i+1"
   ]
  },
  {
   "cell_type": "markdown",
   "id": "e81c0b39",
   "metadata": {},
   "source": [
    "There will be no need for feature selection as the original model scored the highest"
   ]
  },
  {
   "cell_type": "markdown",
   "id": "a852dae2",
   "metadata": {},
   "source": [
    "#### GridSearchCV"
   ]
  },
  {
   "cell_type": "code",
   "execution_count": 40,
   "id": "b649e4e9",
   "metadata": {},
   "outputs": [
    {
     "name": "stdout",
     "output_type": "stream",
     "text": [
      "Parameter tuning results\n",
      "R2 SCORE: 97.18%\t CV (RMSE) Score: 1722.88\t \tTime taken in seconds: 223.48\n",
      "\n",
      "Best Parameters:  {'depth': 8, 'iterations': 1250, 'learning_rate': 0.33} \n",
      "\n"
     ]
    },
    {
     "data": {
      "image/png": "[encoded data removed]",
      "text/plain": [
       "<Figure size 1080x360 with 2 Axes>"
      ]
     },
     "metadata": {
      "needs_background": "light"
     },
     "output_type": "display_data"
    }
   ],
   "source": [
    "# Gridsearch to get best parameters\n",
    "parameters = { \n",
    "'learning_rate': [0.33, 1],\n",
    "'depth': [2, 8],\n",
    "'iterations': [100, 500, 1250]\n",
    "} # Best params: 0.33, 8, 1250\n",
    "\n",
    "# Optimizing pipeline using GridSearchCV\n",
    "grid = GridSearchCV(model, parameters, cv=kf)\n",
    "print('Parameter tuning results')\n",
    "evaluate_model(grid, X, Y, grid=True)\n"
   ]
  },
  {
   "cell_type": "markdown",
   "id": "965138ec",
   "metadata": {},
   "source": [
    "## UI Form with Model"
   ]
  },
  {
   "cell_type": "code",
   "execution_count": 41,
   "id": "f1b5e3aa",
   "metadata": {},
   "outputs": [],
   "source": [
    "def model_ui():    \n",
    "    # Extracting user inputs, and changing data types when appropriate\n",
    "    print(\"------------------Please enter the details of the car---------------------------\\n\")\n",
    "    print(\"Please choose one of the following Car Companies:\\n\")\n",
    "    i=0\n",
    "    for company in df.company.unique(): \n",
    "        i=i+1\n",
    "        print(str(i) + '. ' + str(company)) # Displays all the car companies\n",
    "    \n",
    "    company = input(\"\\nCompany of Car: \")\n",
    "    dfi = df.loc[df['company'] == company] # Get data of specific company\n",
    "\n",
    "    print('----------------------------------------------------------------------------------')\n",
    "    print('\\nPlease choose one of the following Car Models:\\n')\n",
    "    i=0\n",
    "    for model in dfi.model.unique(): # Models of the specified company\n",
    "        i=i+1\n",
    "        print(str(i) + '. ' + model) # Display all models of company\n",
    "\n",
    "    model = input(\"\\nModel of Car: \") # Takes the model\n",
    "    print('----------------------------------------------------------------------------------')\n",
    "    year = int(input(\"\\nYear of Car: \")) # Takes the year\n",
    "\n",
    "    print('----------------------------------------------------------------------------------')\n",
    "    print('\\nPlease choose one of the following Transmissions:\\n')\n",
    "    i=0\n",
    "    for transmission in dfi.transmission.unique(): # Transmissions of the specified company\n",
    "        i=i+1\n",
    "        print(str(i) + '. ' + transmission) # Displays transmissions \n",
    "    \n",
    "    transmission = input(\"\\nTransmission of Car: \")\n",
    "    print('----------------------------------------------------------------------------------')\n",
    "    mileage = int(input(\"\\nMileage driven by car: \")) # Takes mileage\n",
    "\n",
    "    print('----------------------------------------------------------------------------------')\n",
    "    print('\\nPlease choose one of the following Fuel Types:\\n')\n",
    "    i=0\n",
    "    for fueltype in dfi.fuelType.unique(): # Fuel types of specified company\n",
    "        i=i+1\n",
    "        print(str(i) + '. ' + fueltype) # Displays fueltypes\n",
    "    fuelType = input(\"\\nFuel Type of Car: \")\n",
    "\n",
    "    print('----------------------------------------------------------------------------------')\n",
    "    tax = float(input(\"\\nTax (Optional) if not known, enter 0: \")) # Takes tax\n",
    "    \n",
    "    print('----------------------------------------------------------------------------------')\n",
    "    mpg = float(input(\"\\nMiles per Gallon of Car: \")) # Takes car mpg\n",
    "    \n",
    "    print('----------------------------------------------------------------------------------')\n",
    "    engineSize = float(input(\"\\nEngine Size of Car in Litres: \")) # Takes Engine Size\n",
    "    \n",
    "    print('----------------------------------------------------------------------------------')\n",
    "    print('\\nPredicting Price...') # For UI purposes\n",
    "    \n",
    "    # Turning inputs into a pandas df, to merge with the original df\n",
    "    df_ui = pd.DataFrame({'company':[company],\n",
    "                          'model':[model],\n",
    "                          'year':[year],\n",
    "                          'transmission':[transmission],\n",
    "                          'mileage':[mileage],\n",
    "                          'fuelType':[fuelType],\n",
    "                          'tax':[tax],\n",
    "                          'mpg':[mpg],\n",
    "                          'engineSize':[engineSize]})\n",
    "    \n",
    "    # Splitting target variable and independent variables\n",
    "    X = df.drop(columns=['price'])\n",
    "    Y = df['price']\n",
    "    # Concatenate independent variables (X) with input\n",
    "    X = pd.concat([df_ui,X], ignore_index=True)\n",
    "    # Encoding data\n",
    "    X = encode(X)\n",
    "    # Extracting input row with encoding\n",
    "    X_pred = X.iloc[[0]]\n",
    "    # Predict user input\n",
    "    output = grid.predict(X_pred)\n",
    "    # Display prediction\n",
    "    print('\\nThe predicted price of the car is worth:', \"\\033[1m\"+'£'+str(int(output[0]))+\"\\033[0m\")"
   ]
  },
  {
   "cell_type": "markdown",
   "id": "369664f1",
   "metadata": {},
   "source": [
    "## Test Cases"
   ]
  },
  {
   "cell_type": "markdown",
   "id": "33ca26e5",
   "metadata": {},
   "source": [
    "#### Test Case 1: Company"
   ]
  },
  {
   "cell_type": "markdown",
   "id": "8200ea3b",
   "metadata": {},
   "source": [
    "Mercedes"
   ]
  },
  {
   "cell_type": "code",
   "execution_count": 46,
   "id": "253bd18a",
   "metadata": {},
   "outputs": [
    {
     "name": "stdout",
     "output_type": "stream",
     "text": [
      "------------------Please enter the details of the car---------------------------\n",
      "\n",
      "Please choose one of the following Car Companies:\n",
      "\n",
      "1. Audi\n",
      "2. BMW\n",
      "3. Ford\n",
      "4. Hyundai\n",
      "5. Mercedes\n",
      "6. Skoda\n",
      "7. Toyota\n",
      "8. Vauxhall\n",
      "9. Volkswagen\n",
      "\n",
      "Company of Car: Mercedes\n",
      "----------------------------------------------------------------------------------\n",
      "\n",
      "Please choose one of the following Car Models:\n",
      "\n",
      "1. SLK\n",
      "2. S Class\n",
      "3. SL CLASS\n",
      "4. G Class\n",
      "5. GLE Class\n",
      "6. GLA Class\n",
      "7. A Class\n",
      "8. B Class\n",
      "9. GLC Class\n",
      "10. C Class\n",
      "11. E Class\n",
      "12. GL Class\n",
      "13. CLS Class\n",
      "14. CLC Class\n",
      "15. CLA Class\n",
      "16. V Class\n",
      "17. M Class\n",
      "18. CL Class\n",
      "19. GLS Class\n",
      "20. GLB Class\n",
      "21. X-CLASS\n",
      "22. 180\n",
      "23. CLK\n",
      "24. R Class\n",
      "25. 220\n",
      "26. 200\n",
      "\n",
      "Model of Car: C Class\n",
      "----------------------------------------------------------------------------------\n",
      "\n",
      "Year of Car: 2015\n",
      "----------------------------------------------------------------------------------\n",
      "\n",
      "Please choose one of the following Transmissions:\n",
      "\n",
      "1. Automatic\n",
      "2. Manual\n",
      "3. Semi-Auto\n",
      "\n",
      "Transmission of Car: Automatic\n",
      "----------------------------------------------------------------------------------\n",
      "\n",
      "Mileage driven by car: 1000\n",
      "----------------------------------------------------------------------------------\n",
      "\n",
      "Please choose one of the following Fuel Types:\n",
      "\n",
      "1. Petrol\n",
      "2. Hybrid\n",
      "3. Diesel\n",
      "\n",
      "Fuel Type of Car: Petrol\n",
      "----------------------------------------------------------------------------------\n",
      "\n",
      "Tax (Optional) if not known, enter 0: 0\n",
      "----------------------------------------------------------------------------------\n",
      "\n",
      "Miles per Gallon of Car: 55.4\n",
      "----------------------------------------------------------------------------------\n",
      "\n",
      "Engine Size of Car in Litres: 1.8\n",
      "----------------------------------------------------------------------------------\n",
      "\n",
      "Predicting Price...\n",
      "\n",
      "The predicted price of the car is worth: \u001b[1m£19695\u001b[0m\n"
     ]
    }
   ],
   "source": [
    "model_ui()"
   ]
  },
  {
   "cell_type": "markdown",
   "id": "60957694",
   "metadata": {},
   "source": [
    "Skoda"
   ]
  },
  {
   "cell_type": "code",
   "execution_count": 47,
   "id": "a8009797",
   "metadata": {},
   "outputs": [
    {
     "name": "stdout",
     "output_type": "stream",
     "text": [
      "------------------Please enter the details of the car---------------------------\n",
      "\n",
      "Please choose one of the following Car Companies:\n",
      "\n",
      "1. Audi\n",
      "2. BMW\n",
      "3. Ford\n",
      "4. Hyundai\n",
      "5. Mercedes\n",
      "6. Skoda\n",
      "7. Toyota\n",
      "8. Vauxhall\n",
      "9. Volkswagen\n",
      "\n",
      "Company of Car: Skoda\n",
      "----------------------------------------------------------------------------------\n",
      "\n",
      "Please choose one of the following Car Models:\n",
      "\n",
      "1. Octavia\n",
      "2. Citigo\n",
      "3. Yeti Outdoor\n",
      "4. Superb\n",
      "5. Kodiaq\n",
      "6. Rapid\n",
      "7. Karoq\n",
      "8. Fabia\n",
      "9. Yeti\n",
      "10. Scala\n",
      "11. Roomster\n",
      "12. Kamiq\n",
      "\n",
      "Model of Car: Octavia\n",
      "----------------------------------------------------------------------------------\n",
      "\n",
      "Year of Car: 2015\n",
      "----------------------------------------------------------------------------------\n",
      "\n",
      "Please choose one of the following Transmissions:\n",
      "\n",
      "1. Manual\n",
      "2. Automatic\n",
      "3. Semi-Auto\n",
      "\n",
      "Transmission of Car: Automatic\n",
      "----------------------------------------------------------------------------------\n",
      "\n",
      "Mileage driven by car: 1000\n",
      "----------------------------------------------------------------------------------\n",
      "\n",
      "Please choose one of the following Fuel Types:\n",
      "\n",
      "1. Petrol\n",
      "2. Diesel\n",
      "3. Hybrid\n",
      "\n",
      "Fuel Type of Car: Petrol\n",
      "----------------------------------------------------------------------------------\n",
      "\n",
      "Tax (Optional) if not known, enter 0: 0\n",
      "----------------------------------------------------------------------------------\n",
      "\n",
      "Miles per Gallon of Car: 55.4\n",
      "----------------------------------------------------------------------------------\n",
      "\n",
      "Engine Size of Car in Litres: 1.8\n",
      "----------------------------------------------------------------------------------\n",
      "\n",
      "Predicting Price...\n",
      "\n",
      "The predicted price of the car is worth: \u001b[1m£14400\u001b[0m\n"
     ]
    }
   ],
   "source": [
    "model_ui()"
   ]
  },
  {
   "cell_type": "markdown",
   "id": "c783fd43",
   "metadata": {},
   "source": [
    "Test successful"
   ]
  },
  {
   "cell_type": "markdown",
   "id": "89152d13",
   "metadata": {},
   "source": [
    "#### Test Case 2: Mileage"
   ]
  },
  {
   "cell_type": "markdown",
   "id": "9565a0ab",
   "metadata": {},
   "source": [
    "100"
   ]
  },
  {
   "cell_type": "code",
   "execution_count": 48,
   "id": "b3c15bdd",
   "metadata": {},
   "outputs": [
    {
     "name": "stdout",
     "output_type": "stream",
     "text": [
      "------------------Please enter the details of the car---------------------------\n",
      "\n",
      "Please choose one of the following Car Companies:\n",
      "\n",
      "1. Audi\n",
      "2. BMW\n",
      "3. Ford\n",
      "4. Hyundai\n",
      "5. Mercedes\n",
      "6. Skoda\n",
      "7. Toyota\n",
      "8. Vauxhall\n",
      "9. Volkswagen\n",
      "\n",
      "Company of Car: Audi\n",
      "----------------------------------------------------------------------------------\n",
      "\n",
      "Please choose one of the following Car Models:\n",
      "\n",
      "1. A1\n",
      "2. A6\n",
      "3. A4\n",
      "4. A3\n",
      "5. Q3\n",
      "6. Q5\n",
      "7. A5\n",
      "8. S4\n",
      "9. Q2\n",
      "10. A7\n",
      "11. TT\n",
      "12. Q7\n",
      "13. RS6\n",
      "14. RS3\n",
      "15. A8\n",
      "16. Q8\n",
      "17. RS4\n",
      "18. RS5\n",
      "19. R8\n",
      "20. SQ5\n",
      "21. S8\n",
      "22. SQ7\n",
      "23. S3\n",
      "24. S5\n",
      "25. A2\n",
      "26. RS7\n",
      "\n",
      "Model of Car: A1\n",
      "----------------------------------------------------------------------------------\n",
      "\n",
      "Year of Car: 2015\n",
      "----------------------------------------------------------------------------------\n",
      "\n",
      "Please choose one of the following Transmissions:\n",
      "\n",
      "1. Manual\n",
      "2. Automatic\n",
      "3. Semi-Auto\n",
      "\n",
      "Transmission of Car: Automatic\n",
      "----------------------------------------------------------------------------------\n",
      "\n",
      "Mileage driven by car: 100\n",
      "----------------------------------------------------------------------------------\n",
      "\n",
      "Please choose one of the following Fuel Types:\n",
      "\n",
      "1. Petrol\n",
      "2. Diesel\n",
      "3. Hybrid\n",
      "\n",
      "Fuel Type of Car: Petrol\n",
      "----------------------------------------------------------------------------------\n",
      "\n",
      "Tax (Optional) if not known, enter 0: 0\n",
      "----------------------------------------------------------------------------------\n",
      "\n",
      "Miles per Gallon of Car: 55.4\n",
      "----------------------------------------------------------------------------------\n",
      "\n",
      "Engine Size of Car in Litres: 1.8\n",
      "----------------------------------------------------------------------------------\n",
      "\n",
      "Predicting Price...\n",
      "\n",
      "The predicted price of the car is worth: \u001b[1m£14602\u001b[0m\n"
     ]
    }
   ],
   "source": [
    "model_ui()"
   ]
  },
  {
   "cell_type": "markdown",
   "id": "602e3ad0",
   "metadata": {},
   "source": [
    "25,000"
   ]
  },
  {
   "cell_type": "code",
   "execution_count": 49,
   "id": "d78112be",
   "metadata": {},
   "outputs": [
    {
     "name": "stdout",
     "output_type": "stream",
     "text": [
      "------------------Please enter the details of the car---------------------------\n",
      "\n",
      "Please choose one of the following Car Companies:\n",
      "\n",
      "1. Audi\n",
      "2. BMW\n",
      "3. Ford\n",
      "4. Hyundai\n",
      "5. Mercedes\n",
      "6. Skoda\n",
      "7. Toyota\n",
      "8. Vauxhall\n",
      "9. Volkswagen\n",
      "\n",
      "Company of Car: Audi\n",
      "----------------------------------------------------------------------------------\n",
      "\n",
      "Please choose one of the following Car Models:\n",
      "\n",
      "1. A1\n",
      "2. A6\n",
      "3. A4\n",
      "4. A3\n",
      "5. Q3\n",
      "6. Q5\n",
      "7. A5\n",
      "8. S4\n",
      "9. Q2\n",
      "10. A7\n",
      "11. TT\n",
      "12. Q7\n",
      "13. RS6\n",
      "14. RS3\n",
      "15. A8\n",
      "16. Q8\n",
      "17. RS4\n",
      "18. RS5\n",
      "19. R8\n",
      "20. SQ5\n",
      "21. S8\n",
      "22. SQ7\n",
      "23. S3\n",
      "24. S5\n",
      "25. A2\n",
      "26. RS7\n",
      "\n",
      "Model of Car: A1\n",
      "----------------------------------------------------------------------------------\n",
      "\n",
      "Year of Car: 2015\n",
      "----------------------------------------------------------------------------------\n",
      "\n",
      "Please choose one of the following Transmissions:\n",
      "\n",
      "1. Manual\n",
      "2. Automatic\n",
      "3. Semi-Auto\n",
      "\n",
      "Transmission of Car: Automatic\n",
      "----------------------------------------------------------------------------------\n",
      "\n",
      "Mileage driven by car: 25000\n",
      "----------------------------------------------------------------------------------\n",
      "\n",
      "Please choose one of the following Fuel Types:\n",
      "\n",
      "1. Petrol\n",
      "2. Diesel\n",
      "3. Hybrid\n",
      "\n",
      "Fuel Type of Car: Petrol\n",
      "----------------------------------------------------------------------------------\n",
      "\n",
      "Tax (Optional) if not known, enter 0: 0\n",
      "----------------------------------------------------------------------------------\n",
      "\n",
      "Miles per Gallon of Car: 55.4\n",
      "----------------------------------------------------------------------------------\n",
      "\n",
      "Engine Size of Car in Litres: 1.8\n",
      "----------------------------------------------------------------------------------\n",
      "\n",
      "Predicting Price...\n",
      "\n",
      "The predicted price of the car is worth: \u001b[1m£11739\u001b[0m\n"
     ]
    }
   ],
   "source": [
    "model_ui()"
   ]
  },
  {
   "cell_type": "markdown",
   "id": "6aa6b63f",
   "metadata": {},
   "source": [
    "Test successful"
   ]
  },
  {
   "cell_type": "markdown",
   "id": "027b1f15",
   "metadata": {},
   "source": [
    "#### Test Case 3: Year"
   ]
  },
  {
   "cell_type": "markdown",
   "id": "e1a736a4",
   "metadata": {},
   "source": [
    "2020"
   ]
  },
  {
   "cell_type": "code",
   "execution_count": 50,
   "id": "86feaadb",
   "metadata": {},
   "outputs": [
    {
     "name": "stdout",
     "output_type": "stream",
     "text": [
      "------------------Please enter the details of the car---------------------------\n",
      "\n",
      "Please choose one of the following Car Companies:\n",
      "\n",
      "1. Audi\n",
      "2. BMW\n",
      "3. Ford\n",
      "4. Hyundai\n",
      "5. Mercedes\n",
      "6. Skoda\n",
      "7. Toyota\n",
      "8. Vauxhall\n",
      "9. Volkswagen\n",
      "\n",
      "Company of Car: Audi\n",
      "----------------------------------------------------------------------------------\n",
      "\n",
      "Please choose one of the following Car Models:\n",
      "\n",
      "1. A1\n",
      "2. A6\n",
      "3. A4\n",
      "4. A3\n",
      "5. Q3\n",
      "6. Q5\n",
      "7. A5\n",
      "8. S4\n",
      "9. Q2\n",
      "10. A7\n",
      "11. TT\n",
      "12. Q7\n",
      "13. RS6\n",
      "14. RS3\n",
      "15. A8\n",
      "16. Q8\n",
      "17. RS4\n",
      "18. RS5\n",
      "19. R8\n",
      "20. SQ5\n",
      "21. S8\n",
      "22. SQ7\n",
      "23. S3\n",
      "24. S5\n",
      "25. A2\n",
      "26. RS7\n",
      "\n",
      "Model of Car: A1\n",
      "----------------------------------------------------------------------------------\n",
      "\n",
      "Year of Car: 2020\n",
      "----------------------------------------------------------------------------------\n",
      "\n",
      "Please choose one of the following Transmissions:\n",
      "\n",
      "1. Manual\n",
      "2. Automatic\n",
      "3. Semi-Auto\n",
      "\n",
      "Transmission of Car: Automatic\n",
      "----------------------------------------------------------------------------------\n",
      "\n",
      "Mileage driven by car: 1000\n",
      "----------------------------------------------------------------------------------\n",
      "\n",
      "Please choose one of the following Fuel Types:\n",
      "\n",
      "1. Petrol\n",
      "2. Diesel\n",
      "3. Hybrid\n",
      "\n",
      "Fuel Type of Car: Petrol\n",
      "----------------------------------------------------------------------------------\n",
      "\n",
      "Tax (Optional) if not known, enter 0: 0\n",
      "----------------------------------------------------------------------------------\n",
      "\n",
      "Miles per Gallon of Car: 55.4\n",
      "----------------------------------------------------------------------------------\n",
      "\n",
      "Engine Size of Car in Litres: 1.8\n",
      "----------------------------------------------------------------------------------\n",
      "\n",
      "Predicting Price...\n",
      "\n",
      "The predicted price of the car is worth: \u001b[1m£24580\u001b[0m\n"
     ]
    }
   ],
   "source": [
    "model_ui()"
   ]
  },
  {
   "cell_type": "markdown",
   "id": "c77cde94",
   "metadata": {},
   "source": [
    "2010"
   ]
  },
  {
   "cell_type": "code",
   "execution_count": 51,
   "id": "c274a438",
   "metadata": {},
   "outputs": [
    {
     "name": "stdout",
     "output_type": "stream",
     "text": [
      "------------------Please enter the details of the car---------------------------\n",
      "\n",
      "Please choose one of the following Car Companies:\n",
      "\n",
      "1. Audi\n",
      "2. BMW\n",
      "3. Ford\n",
      "4. Hyundai\n",
      "5. Mercedes\n",
      "6. Skoda\n",
      "7. Toyota\n",
      "8. Vauxhall\n",
      "9. Volkswagen\n",
      "\n",
      "Company of Car: Audi\n",
      "----------------------------------------------------------------------------------\n",
      "\n",
      "Please choose one of the following Car Models:\n",
      "\n",
      "1. A1\n",
      "2. A6\n",
      "3. A4\n",
      "4. A3\n",
      "5. Q3\n",
      "6. Q5\n",
      "7. A5\n",
      "8. S4\n",
      "9. Q2\n",
      "10. A7\n",
      "11. TT\n",
      "12. Q7\n",
      "13. RS6\n",
      "14. RS3\n",
      "15. A8\n",
      "16. Q8\n",
      "17. RS4\n",
      "18. RS5\n",
      "19. R8\n",
      "20. SQ5\n",
      "21. S8\n",
      "22. SQ7\n",
      "23. S3\n",
      "24. S5\n",
      "25. A2\n",
      "26. RS7\n",
      "\n",
      "Model of Car: A1\n",
      "----------------------------------------------------------------------------------\n",
      "\n",
      "Year of Car: 2010\n",
      "----------------------------------------------------------------------------------\n",
      "\n",
      "Please choose one of the following Transmissions:\n",
      "\n",
      "1. Manual\n",
      "2. Automatic\n",
      "3. Semi-Auto\n",
      "\n",
      "Transmission of Car: Automatic\n",
      "----------------------------------------------------------------------------------\n",
      "\n",
      "Mileage driven by car: 1000\n",
      "----------------------------------------------------------------------------------\n",
      "\n",
      "Please choose one of the following Fuel Types:\n",
      "\n",
      "1. Petrol\n",
      "2. Diesel\n",
      "3. Hybrid\n",
      "\n",
      "Fuel Type of Car: Petrol\n",
      "----------------------------------------------------------------------------------\n",
      "\n",
      "Tax (Optional) if not known, enter 0: 0\n",
      "----------------------------------------------------------------------------------\n",
      "\n",
      "Miles per Gallon of Car: 55.4\n",
      "----------------------------------------------------------------------------------\n",
      "\n",
      "Engine Size of Car in Litres: 1.8\n",
      "----------------------------------------------------------------------------------\n",
      "\n",
      "Predicting Price...\n",
      "\n",
      "The predicted price of the car is worth: \u001b[1m£9534\u001b[0m\n"
     ]
    }
   ],
   "source": [
    "model_ui()"
   ]
  },
  {
   "cell_type": "markdown",
   "id": "52ada99b",
   "metadata": {},
   "source": [
    "Test successful"
   ]
  }
 ],
 "metadata": {
  "kernelspec": {
   "display_name": "Python 3 (ipykernel)",
   "language": "python",
   "name": "python3"
  },
  "language_info": {
   "codemirror_mode": {
    "name": "ipython",
    "version": 3
   },
   "file_extension": ".py",
   "mimetype": "text/x-python",
   "name": "python",
   "nbconvert_exporter": "python",
   "pygments_lexer": "ipython3",
   "version": "3.8.8"
  }
 },
 "nbformat": 4,
 "nbformat_minor": 5
}
